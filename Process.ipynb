{
 "cells": [
  {
   "cell_type": "markdown",
   "metadata": {
    "toc": true
   },
   "source": [
    "<h1>Содержание<span class=\"tocSkip\"></span></h1>\n",
    "<div class=\"toc\"><ul class=\"toc-item\"><li><span><a href=\"#Чтение-файла\" data-toc-modified-id=\"Чтение-файла-1\"><span class=\"toc-item-num\">1&nbsp;&nbsp;</span>Чтение файла</a></span><ul class=\"toc-item\"><li><span><a href=\"#Описание-датасета\" data-toc-modified-id=\"Описание-датасета-1.1\"><span class=\"toc-item-num\">1.1&nbsp;&nbsp;</span>Описание датасета</a></span></li><li><span><a href=\"#Выводы-по-датасету\" data-toc-modified-id=\"Выводы-по-датасету-1.2\"><span class=\"toc-item-num\">1.2&nbsp;&nbsp;</span>Выводы по датасету</a></span></li></ul></li><li><span><a href=\"#Подготовка-данных\" data-toc-modified-id=\"Подготовка-данных-2\"><span class=\"toc-item-num\">2&nbsp;&nbsp;</span>Подготовка данных</a></span><ul class=\"toc-item\"><li><span><a href=\"#Удаление-столбцов\" data-toc-modified-id=\"Удаление-столбцов-2.1\"><span class=\"toc-item-num\">2.1&nbsp;&nbsp;</span>Удаление столбцов</a></span></li><li><span><a href=\"#Заполнение-пропусков\" data-toc-modified-id=\"Заполнение-пропусков-2.2\"><span class=\"toc-item-num\">2.2&nbsp;&nbsp;</span>Заполнение пропусков</a></span></li><li><span><a href=\"#Разбиение-на-категории\" data-toc-modified-id=\"Разбиение-на-категории-2.3\"><span class=\"toc-item-num\">2.3&nbsp;&nbsp;</span>Разбиение на категории</a></span></li><li><span><a href=\"#Прямое-кодирование\" data-toc-modified-id=\"Прямое-кодирование-2.4\"><span class=\"toc-item-num\">2.4&nbsp;&nbsp;</span>Прямое кодирование</a></span></li><li><span><a href=\"#Разбиение-на-выборки\" data-toc-modified-id=\"Разбиение-на-выборки-2.5\"><span class=\"toc-item-num\">2.5&nbsp;&nbsp;</span>Разбиение на выборки</a></span></li><li><span><a href=\"#Масштабирование-признаков\" data-toc-modified-id=\"Масштабирование-признаков-2.6\"><span class=\"toc-item-num\">2.6&nbsp;&nbsp;</span>Масштабирование признаков</a></span></li></ul></li><li><span><a href=\"#Исследование-задачи\" data-toc-modified-id=\"Исследование-задачи-3\"><span class=\"toc-item-num\">3&nbsp;&nbsp;</span>Исследование задачи</a></span><ul class=\"toc-item\"><li><span><a href=\"#Изучение-классов\" data-toc-modified-id=\"Изучение-классов-3.1\"><span class=\"toc-item-num\">3.1&nbsp;&nbsp;</span>Изучение классов</a></span></li><li><span><a href=\"#Результативность-логистической-регрессии\" data-toc-modified-id=\"Результативность-логистической-регрессии-3.2\"><span class=\"toc-item-num\">3.2&nbsp;&nbsp;</span>Результативность логистической регрессии</a></span></li><li><span><a href=\"#Результативность-случайного-леса\" data-toc-modified-id=\"Результативность-случайного-леса-3.3\"><span class=\"toc-item-num\">3.3&nbsp;&nbsp;</span>Результативность случайного леса</a></span></li><li><span><a href=\"#Матрица-ошибок-для-случайного-леса\" data-toc-modified-id=\"Матрица-ошибок-для-случайного-леса-3.4\"><span class=\"toc-item-num\">3.4&nbsp;&nbsp;</span>Матрица ошибок для случайного леса</a></span></li></ul></li><li><span><a href=\"#Борьба-с-дисбалансом\" data-toc-modified-id=\"Борьба-с-дисбалансом-4\"><span class=\"toc-item-num\">4&nbsp;&nbsp;</span>Борьба с дисбалансом</a></span><ul class=\"toc-item\"><li><span><a href=\"#Уменьшение-выборки\" data-toc-modified-id=\"Уменьшение-выборки-4.1\"><span class=\"toc-item-num\">4.1&nbsp;&nbsp;</span>Уменьшение выборки</a></span><ul class=\"toc-item\"><li><span><a href=\"#Процесс-уменьшения\" data-toc-modified-id=\"Процесс-уменьшения-4.1.1\"><span class=\"toc-item-num\">4.1.1&nbsp;&nbsp;</span>Процесс уменьшения</a></span></li><li><span><a href=\"#Результативность-работы\" data-toc-modified-id=\"Результативность-работы-4.1.2\"><span class=\"toc-item-num\">4.1.2&nbsp;&nbsp;</span>Результативность работы</a></span></li></ul></li><li><span><a href=\"#Увеличение-выборки\" data-toc-modified-id=\"Увеличение-выборки-4.2\"><span class=\"toc-item-num\">4.2&nbsp;&nbsp;</span>Увеличение выборки</a></span><ul class=\"toc-item\"><li><span><a href=\"#Процесс-увеличения\" data-toc-modified-id=\"Процесс-увеличения-4.2.1\"><span class=\"toc-item-num\">4.2.1&nbsp;&nbsp;</span>Процесс увеличения</a></span></li><li><span><a href=\"#Результативность-работы\" data-toc-modified-id=\"Результативность-работы-4.2.2\"><span class=\"toc-item-num\">4.2.2&nbsp;&nbsp;</span>Результативность работы</a></span></li></ul></li><li><span><a href=\"#Изменение-порога-классификации\" data-toc-modified-id=\"Изменение-порога-классификации-4.3\"><span class=\"toc-item-num\">4.3&nbsp;&nbsp;</span>Изменение порога классификации</a></span></li></ul></li><li><span><a href=\"#Тестирование-модели\" data-toc-modified-id=\"Тестирование-модели-5\"><span class=\"toc-item-num\">5&nbsp;&nbsp;</span>Тестирование модели</a></span></li><li><span><a href=\"#Исследование-AUC-ROC\" data-toc-modified-id=\"Исследование-AUC-ROC-6\"><span class=\"toc-item-num\">6&nbsp;&nbsp;</span>Исследование AUC-ROC</a></span></li><li><span><a href=\"#Общий-вывод\" data-toc-modified-id=\"Общий-вывод-7\"><span class=\"toc-item-num\">7&nbsp;&nbsp;</span>Общий вывод</a></span></li><li><span><a href=\"#Чек-лист-готовности-проекта\" data-toc-modified-id=\"Чек-лист-готовности-проекта-8\"><span class=\"toc-item-num\">8&nbsp;&nbsp;</span>Чек-лист готовности проекта</a></span></li></ul></div>"
   ]
  },
  {
   "cell_type": "markdown",
   "metadata": {},
   "source": [
    "# Отток клиентов"
   ]
  },
  {
   "cell_type": "markdown",
   "metadata": {},
   "source": [
    "Из «Бета-Банка» стали уходить клиенты. Каждый месяц. Немного, но заметно. Банковские маркетологи посчитали: сохранять текущих клиентов дешевле, чем привлекать новых.\n",
    "\n",
    "Нужно спрогнозировать, уйдёт клиент из банка в ближайшее время или нет. Вам предоставлены исторические данные о поведении клиентов и расторжении договоров с банком. \n",
    "\n",
    "Постройте модель с предельно большим значением *F1*-меры. Чтобы сдать проект успешно, нужно довести метрику до 0.59. Проверьте *F1*-меру на тестовой выборке самостоятельно.\n",
    "\n",
    "Дополнительно измеряйте *AUC-ROC*, сравнивайте её значение с *F1*-мерой.\n",
    "\n",
    "Источник данных: [https://www.kaggle.com/barelydedicated/bank-customer-churn-modeling](https://www.kaggle.com/barelydedicated/bank-customer-churn-modeling)"
   ]
  },
  {
   "cell_type": "markdown",
   "metadata": {},
   "source": [
    "## Чтение файла\n",
    "Импортируем необходимые в работе библиотеки и прочтём файл с данными."
   ]
  },
  {
   "cell_type": "code",
   "execution_count": 1,
   "metadata": {},
   "outputs": [
    {
     "name": "stdout",
     "output_type": "stream",
     "text": [
      "<class 'pandas.core.frame.DataFrame'>\n",
      "RangeIndex: 10000 entries, 0 to 9999\n",
      "Data columns (total 14 columns):\n",
      " #   Column           Non-Null Count  Dtype  \n",
      "---  ------           --------------  -----  \n",
      " 0   RowNumber        10000 non-null  int64  \n",
      " 1   CustomerId       10000 non-null  int64  \n",
      " 2   Surname          10000 non-null  object \n",
      " 3   CreditScore      10000 non-null  int64  \n",
      " 4   Geography        10000 non-null  object \n",
      " 5   Gender           10000 non-null  object \n",
      " 6   Age              10000 non-null  int64  \n",
      " 7   Tenure           9091 non-null   float64\n",
      " 8   Balance          10000 non-null  float64\n",
      " 9   NumOfProducts    10000 non-null  int64  \n",
      " 10  HasCrCard        10000 non-null  int64  \n",
      " 11  IsActiveMember   10000 non-null  int64  \n",
      " 12  EstimatedSalary  10000 non-null  float64\n",
      " 13  Exited           10000 non-null  int64  \n",
      "dtypes: float64(3), int64(8), object(3)\n",
      "memory usage: 1.1+ MB\n"
     ]
    },
    {
     "data": {
      "text/html": [
       "<div>\n",
       "<style scoped>\n",
       "    .dataframe tbody tr th:only-of-type {\n",
       "        vertical-align: middle;\n",
       "    }\n",
       "\n",
       "    .dataframe tbody tr th {\n",
       "        vertical-align: top;\n",
       "    }\n",
       "\n",
       "    .dataframe thead th {\n",
       "        text-align: right;\n",
       "    }\n",
       "</style>\n",
       "<table border=\"1\" class=\"dataframe\">\n",
       "  <thead>\n",
       "    <tr style=\"text-align: right;\">\n",
       "      <th></th>\n",
       "      <th>RowNumber</th>\n",
       "      <th>CustomerId</th>\n",
       "      <th>Surname</th>\n",
       "      <th>CreditScore</th>\n",
       "      <th>Geography</th>\n",
       "      <th>Gender</th>\n",
       "      <th>Age</th>\n",
       "      <th>Tenure</th>\n",
       "      <th>Balance</th>\n",
       "      <th>NumOfProducts</th>\n",
       "      <th>HasCrCard</th>\n",
       "      <th>IsActiveMember</th>\n",
       "      <th>EstimatedSalary</th>\n",
       "      <th>Exited</th>\n",
       "    </tr>\n",
       "  </thead>\n",
       "  <tbody>\n",
       "    <tr>\n",
       "      <th>0</th>\n",
       "      <td>1</td>\n",
       "      <td>15634602</td>\n",
       "      <td>Hargrave</td>\n",
       "      <td>619</td>\n",
       "      <td>France</td>\n",
       "      <td>Female</td>\n",
       "      <td>42</td>\n",
       "      <td>2.0</td>\n",
       "      <td>0.00</td>\n",
       "      <td>1</td>\n",
       "      <td>1</td>\n",
       "      <td>1</td>\n",
       "      <td>101348.88</td>\n",
       "      <td>1</td>\n",
       "    </tr>\n",
       "    <tr>\n",
       "      <th>1</th>\n",
       "      <td>2</td>\n",
       "      <td>15647311</td>\n",
       "      <td>Hill</td>\n",
       "      <td>608</td>\n",
       "      <td>Spain</td>\n",
       "      <td>Female</td>\n",
       "      <td>41</td>\n",
       "      <td>1.0</td>\n",
       "      <td>83807.86</td>\n",
       "      <td>1</td>\n",
       "      <td>0</td>\n",
       "      <td>1</td>\n",
       "      <td>112542.58</td>\n",
       "      <td>0</td>\n",
       "    </tr>\n",
       "    <tr>\n",
       "      <th>2</th>\n",
       "      <td>3</td>\n",
       "      <td>15619304</td>\n",
       "      <td>Onio</td>\n",
       "      <td>502</td>\n",
       "      <td>France</td>\n",
       "      <td>Female</td>\n",
       "      <td>42</td>\n",
       "      <td>8.0</td>\n",
       "      <td>159660.80</td>\n",
       "      <td>3</td>\n",
       "      <td>1</td>\n",
       "      <td>0</td>\n",
       "      <td>113931.57</td>\n",
       "      <td>1</td>\n",
       "    </tr>\n",
       "    <tr>\n",
       "      <th>3</th>\n",
       "      <td>4</td>\n",
       "      <td>15701354</td>\n",
       "      <td>Boni</td>\n",
       "      <td>699</td>\n",
       "      <td>France</td>\n",
       "      <td>Female</td>\n",
       "      <td>39</td>\n",
       "      <td>1.0</td>\n",
       "      <td>0.00</td>\n",
       "      <td>2</td>\n",
       "      <td>0</td>\n",
       "      <td>0</td>\n",
       "      <td>93826.63</td>\n",
       "      <td>0</td>\n",
       "    </tr>\n",
       "    <tr>\n",
       "      <th>4</th>\n",
       "      <td>5</td>\n",
       "      <td>15737888</td>\n",
       "      <td>Mitchell</td>\n",
       "      <td>850</td>\n",
       "      <td>Spain</td>\n",
       "      <td>Female</td>\n",
       "      <td>43</td>\n",
       "      <td>2.0</td>\n",
       "      <td>125510.82</td>\n",
       "      <td>1</td>\n",
       "      <td>1</td>\n",
       "      <td>1</td>\n",
       "      <td>79084.10</td>\n",
       "      <td>0</td>\n",
       "    </tr>\n",
       "  </tbody>\n",
       "</table>\n",
       "</div>"
      ],
      "text/plain": [
       "   RowNumber  CustomerId   Surname  CreditScore Geography  Gender  Age  \\\n",
       "0          1    15634602  Hargrave          619    France  Female   42   \n",
       "1          2    15647311      Hill          608     Spain  Female   41   \n",
       "2          3    15619304      Onio          502    France  Female   42   \n",
       "3          4    15701354      Boni          699    France  Female   39   \n",
       "4          5    15737888  Mitchell          850     Spain  Female   43   \n",
       "\n",
       "   Tenure    Balance  NumOfProducts  HasCrCard  IsActiveMember  \\\n",
       "0     2.0       0.00              1          1               1   \n",
       "1     1.0   83807.86              1          0               1   \n",
       "2     8.0  159660.80              3          1               0   \n",
       "3     1.0       0.00              2          0               0   \n",
       "4     2.0  125510.82              1          1               1   \n",
       "\n",
       "   EstimatedSalary  Exited  \n",
       "0        101348.88       1  \n",
       "1        112542.58       0  \n",
       "2        113931.57       1  \n",
       "3         93826.63       0  \n",
       "4         79084.10       0  "
      ]
     },
     "execution_count": 1,
     "metadata": {},
     "output_type": "execute_result"
    }
   ],
   "source": [
    "#импорт библиотеки pandas и предупреждений\n",
    "import pandas as pd\n",
    "import warnings\n",
    "\n",
    "#пандас слишком ругается на мои методы\n",
    "warnings.filterwarnings(\"ignore\")\n",
    "\n",
    "try:\n",
    "    df = pd.read_csv('Churn.csv') #читаем датасет\n",
    "except:\n",
    "    df = pd.read_csv('/datasets/Churn.csv') #вариант для Практикума\n",
    "\n",
    "#изучаем датасет\n",
    "df.info() \n",
    "df.head()"
   ]
  },
  {
   "cell_type": "markdown",
   "metadata": {},
   "source": [
    "### Описание датасета\n",
    "\n",
    "Видим в наборе данных следующие признаки:\n",
    "\n",
    "    RowNumber — индекс строки в данных\n",
    "    CustomerId — уникальный идентификатор клиента\n",
    "    Surname — фамилия\n",
    "    CreditScore — кредитный рейтинг\n",
    "    Geography — страна проживания\n",
    "    Gender — пол\n",
    "    Age — возраст\n",
    "    Tenure — сколько лет человек является клиентом банка\n",
    "    Balance — баланс на счёте\n",
    "    NumOfProducts — количество продуктов банка, используемых клиентом\n",
    "    HasCrCard — наличие кредитной карты\n",
    "    IsActiveMember — активность клиента\n",
    "    EstimatedSalary — предполагаемая зарплата\n",
    "    \n",
    "Целевой признак:\n",
    "\n",
    "    Exited — факт ухода клиента\n",
    "    \n",
    "### Выводы по датасету\n",
    "\n",
    "1. Видим, что столбец 'RowNumber', отвечает за индекс строки. В работе с библиотекой pandas он нам не нужен, поэтому его стоит удалить. Иначе он негативно повлияет на результаты обучения модели.\n",
    "2. Столбцы 'CustomerId' и 'Surname' определяют клиента банка. В обучении модели они не нужны и только ухудшат результаты обучения.\n",
    "3. Столбец 'Tenure' имеет пропущенные значения. Как было описано, он определяет, сколько лет человек является клиентом банка. Скорее всего значения пропущены только у пользователей, которые являются новыми клиентами банка."
   ]
  },
  {
   "cell_type": "markdown",
   "metadata": {},
   "source": [
    "## Подготовка данных\n",
    "\n",
    "Теперь подготовим датасет к работе: удалим ненужные в обучении столбцы и заполним пропущенные значения. После этого разобъём некоторые данные на категории, проведём прямое кодирование категориальных признаков и промасштабируем количественные.\n",
    "\n",
    "### Удаление столбцов\n",
    "\n",
    "Создадим копию исходного датасета без столбцов 'RowNumber', 'CustomerId' и 'Surname' и назовём её train_data (удалять исходные данные не стоит, потому что они могут пригодиться при анализе). "
   ]
  },
  {
   "cell_type": "code",
   "execution_count": 2,
   "metadata": {
    "scrolled": false
   },
   "outputs": [
    {
     "name": "stdout",
     "output_type": "stream",
     "text": [
      "<class 'pandas.core.frame.DataFrame'>\n",
      "RangeIndex: 10000 entries, 0 to 9999\n",
      "Data columns (total 11 columns):\n",
      " #   Column           Non-Null Count  Dtype  \n",
      "---  ------           --------------  -----  \n",
      " 0   CreditScore      10000 non-null  int64  \n",
      " 1   Geography        10000 non-null  object \n",
      " 2   Gender           10000 non-null  object \n",
      " 3   Age              10000 non-null  int64  \n",
      " 4   Tenure           9091 non-null   float64\n",
      " 5   Balance          10000 non-null  float64\n",
      " 6   NumOfProducts    10000 non-null  int64  \n",
      " 7   HasCrCard        10000 non-null  int64  \n",
      " 8   IsActiveMember   10000 non-null  int64  \n",
      " 9   EstimatedSalary  10000 non-null  float64\n",
      " 10  Exited           10000 non-null  int64  \n",
      "dtypes: float64(3), int64(6), object(2)\n",
      "memory usage: 859.5+ KB\n"
     ]
    },
    {
     "data": {
      "text/html": [
       "<div>\n",
       "<style scoped>\n",
       "    .dataframe tbody tr th:only-of-type {\n",
       "        vertical-align: middle;\n",
       "    }\n",
       "\n",
       "    .dataframe tbody tr th {\n",
       "        vertical-align: top;\n",
       "    }\n",
       "\n",
       "    .dataframe thead th {\n",
       "        text-align: right;\n",
       "    }\n",
       "</style>\n",
       "<table border=\"1\" class=\"dataframe\">\n",
       "  <thead>\n",
       "    <tr style=\"text-align: right;\">\n",
       "      <th></th>\n",
       "      <th>CreditScore</th>\n",
       "      <th>Geography</th>\n",
       "      <th>Gender</th>\n",
       "      <th>Age</th>\n",
       "      <th>Tenure</th>\n",
       "      <th>Balance</th>\n",
       "      <th>NumOfProducts</th>\n",
       "      <th>HasCrCard</th>\n",
       "      <th>IsActiveMember</th>\n",
       "      <th>EstimatedSalary</th>\n",
       "      <th>Exited</th>\n",
       "    </tr>\n",
       "  </thead>\n",
       "  <tbody>\n",
       "    <tr>\n",
       "      <th>0</th>\n",
       "      <td>619</td>\n",
       "      <td>France</td>\n",
       "      <td>Female</td>\n",
       "      <td>42</td>\n",
       "      <td>2.0</td>\n",
       "      <td>0.00</td>\n",
       "      <td>1</td>\n",
       "      <td>1</td>\n",
       "      <td>1</td>\n",
       "      <td>101348.88</td>\n",
       "      <td>1</td>\n",
       "    </tr>\n",
       "    <tr>\n",
       "      <th>1</th>\n",
       "      <td>608</td>\n",
       "      <td>Spain</td>\n",
       "      <td>Female</td>\n",
       "      <td>41</td>\n",
       "      <td>1.0</td>\n",
       "      <td>83807.86</td>\n",
       "      <td>1</td>\n",
       "      <td>0</td>\n",
       "      <td>1</td>\n",
       "      <td>112542.58</td>\n",
       "      <td>0</td>\n",
       "    </tr>\n",
       "    <tr>\n",
       "      <th>2</th>\n",
       "      <td>502</td>\n",
       "      <td>France</td>\n",
       "      <td>Female</td>\n",
       "      <td>42</td>\n",
       "      <td>8.0</td>\n",
       "      <td>159660.80</td>\n",
       "      <td>3</td>\n",
       "      <td>1</td>\n",
       "      <td>0</td>\n",
       "      <td>113931.57</td>\n",
       "      <td>1</td>\n",
       "    </tr>\n",
       "    <tr>\n",
       "      <th>3</th>\n",
       "      <td>699</td>\n",
       "      <td>France</td>\n",
       "      <td>Female</td>\n",
       "      <td>39</td>\n",
       "      <td>1.0</td>\n",
       "      <td>0.00</td>\n",
       "      <td>2</td>\n",
       "      <td>0</td>\n",
       "      <td>0</td>\n",
       "      <td>93826.63</td>\n",
       "      <td>0</td>\n",
       "    </tr>\n",
       "    <tr>\n",
       "      <th>4</th>\n",
       "      <td>850</td>\n",
       "      <td>Spain</td>\n",
       "      <td>Female</td>\n",
       "      <td>43</td>\n",
       "      <td>2.0</td>\n",
       "      <td>125510.82</td>\n",
       "      <td>1</td>\n",
       "      <td>1</td>\n",
       "      <td>1</td>\n",
       "      <td>79084.10</td>\n",
       "      <td>0</td>\n",
       "    </tr>\n",
       "  </tbody>\n",
       "</table>\n",
       "</div>"
      ],
      "text/plain": [
       "   CreditScore Geography  Gender  Age  Tenure    Balance  NumOfProducts  \\\n",
       "0          619    France  Female   42     2.0       0.00              1   \n",
       "1          608     Spain  Female   41     1.0   83807.86              1   \n",
       "2          502    France  Female   42     8.0  159660.80              3   \n",
       "3          699    France  Female   39     1.0       0.00              2   \n",
       "4          850     Spain  Female   43     2.0  125510.82              1   \n",
       "\n",
       "   HasCrCard  IsActiveMember  EstimatedSalary  Exited  \n",
       "0          1               1        101348.88       1  \n",
       "1          0               1        112542.58       0  \n",
       "2          1               0        113931.57       1  \n",
       "3          0               0         93826.63       0  \n",
       "4          1               1         79084.10       0  "
      ]
     },
     "execution_count": 2,
     "metadata": {},
     "output_type": "execute_result"
    }
   ],
   "source": [
    "#создаём копию исходного датасета без трёх не нужных нам столбцов\n",
    "train_data = df.drop(columns=['RowNumber', 'CustomerId', 'Surname'])\n",
    "\n",
    "#изучаем получившийся датасет\n",
    "train_data.info()\n",
    "train_data.head()"
   ]
  },
  {
   "cell_type": "markdown",
   "metadata": {},
   "source": [
    "### Заполнение пропусков\n",
    "\n",
    "В прошлом пункте мы предположили, что пропущенные значения в столбце 'Tenure' скорее всего принадлежат новым клиентам банка. Лучшим решением этой проблемы будет заполнение пропусков нулями. Но перед тем, как это сделать, посмотрим распределение значений в данном столбце."
   ]
  },
  {
   "cell_type": "code",
   "execution_count": 3,
   "metadata": {},
   "outputs": [
    {
     "data": {
      "text/plain": [
       "<AxesSubplot:xlabel='Tenure'>"
      ]
     },
     "execution_count": 3,
     "metadata": {},
     "output_type": "execute_result"
    },
    {
     "data": {
      "image/png": "[encoded data removed]",
      "text/plain": [
       "<Figure size 432x288 with 1 Axes>"
      ]
     },
     "metadata": {
      "needs_background": "light"
     },
     "output_type": "display_data"
    }
   ],
   "source": [
    "#импорт библиотеки\n",
    "import matplotlib.pyplot as plt\n",
    "\n",
    "#группируем данные по столбцу 'Tenure' и строим гистограмму по этим данным\n",
    "train_data.groupby('Tenure')['Tenure'].count().plot(kind='bar', rot='0')"
   ]
  },
  {
   "cell_type": "markdown",
   "metadata": {},
   "source": [
    "Распределение напоминает равномерное для клиентов с количеством лет нахождения в банке с 1 до 9. У двух категорий с 0 и 10 годами значение больше чем в 2 раза меньше.\n",
    "\n",
    "Теперь давайте заполним пропущенные значения нулями и изучим распределение после изменения."
   ]
  },
  {
   "cell_type": "code",
   "execution_count": 4,
   "metadata": {
    "scrolled": false
   },
   "outputs": [
    {
     "data": {
      "text/plain": [
       "<AxesSubplot:>"
      ]
     },
     "execution_count": 4,
     "metadata": {},
     "output_type": "execute_result"
    },
    {
     "data": {
      "image/png": "[encoded data removed]",
      "text/plain": [
       "<Figure size 432x288 with 1 Axes>"
      ]
     },
     "metadata": {
      "needs_background": "light"
     },
     "output_type": "display_data"
    }
   ],
   "source": [
    "#заполняем пропуски в столбце 'Tenure'\n",
    "tenure = train_data['Tenure']\n",
    "tenure.fillna(0)\n",
    "\n",
    "#изучаем распределение после заполнения нулями\n",
    "tenure.value_counts().sort_index().plot(kind='bar', rot='0')"
   ]
  },
  {
   "cell_type": "markdown",
   "metadata": {},
   "source": [
    "Распределение изменилось: так как мы заменили все пропущенные значения нулями, то данный столбец у нас закономерно вырос и теперь распределение ещё меньше похоже на равномерное.\n",
    "\n",
    "Это может повлиять на обучение модели в будущем, поэтому лучше заполним пропуски рандомными значениями из промежутка от 0 до 10."
   ]
  },
  {
   "cell_type": "code",
   "execution_count": 5,
   "metadata": {},
   "outputs": [
    {
     "data": {
      "text/plain": [
       "<AxesSubplot:xlabel='Tenure'>"
      ]
     },
     "execution_count": 5,
     "metadata": {},
     "output_type": "execute_result"
    },
    {
     "data": {
      "image/png": "[encoded data removed]",
      "text/plain": [
       "<Figure size 432x288 with 1 Axes>"
      ]
     },
     "metadata": {
      "needs_background": "light"
     },
     "output_type": "display_data"
    }
   ],
   "source": [
    "#импортируем функцию randint и библиотеку numpy\n",
    "import numpy as np\n",
    "from random import randint\n",
    "\n",
    "#заполняем пропуски случайным число от 0 до 10\n",
    "train_data['Tenure'] = train_data['Tenure'].apply(lambda x: randint(0, 10) if (np.isnan(x)) else x)\n",
    "\n",
    "#изучаем распределение после заполнения случайными числами\n",
    "train_data.groupby('Tenure')['Tenure'].count().plot(kind='bar', rot='0')"
   ]
  },
  {
   "cell_type": "markdown",
   "metadata": {},
   "source": [
    "Распределение почти не поменялось, значит на обучение модели сильно не повлияет.\n",
    "\n",
    "Изучим предобработанный датасет."
   ]
  },
  {
   "cell_type": "code",
   "execution_count": 6,
   "metadata": {},
   "outputs": [
    {
     "name": "stdout",
     "output_type": "stream",
     "text": [
      "<class 'pandas.core.frame.DataFrame'>\n",
      "RangeIndex: 10000 entries, 0 to 9999\n",
      "Data columns (total 11 columns):\n",
      " #   Column           Non-Null Count  Dtype  \n",
      "---  ------           --------------  -----  \n",
      " 0   CreditScore      10000 non-null  int64  \n",
      " 1   Geography        10000 non-null  object \n",
      " 2   Gender           10000 non-null  object \n",
      " 3   Age              10000 non-null  int64  \n",
      " 4   Tenure           10000 non-null  float64\n",
      " 5   Balance          10000 non-null  float64\n",
      " 6   NumOfProducts    10000 non-null  int64  \n",
      " 7   HasCrCard        10000 non-null  int64  \n",
      " 8   IsActiveMember   10000 non-null  int64  \n",
      " 9   EstimatedSalary  10000 non-null  float64\n",
      " 10  Exited           10000 non-null  int64  \n",
      "dtypes: float64(3), int64(6), object(2)\n",
      "memory usage: 859.5+ KB\n"
     ]
    }
   ],
   "source": [
    "train_data.info()"
   ]
  },
  {
   "cell_type": "markdown",
   "metadata": {},
   "source": [
    "### Разбиение на категории\n",
    "\n",
    "Для более корректной работы модели лучше разбить количественные данные на категории. Для этого напишем несколько функций, которые будут определять категорию, к которой принадлежат данные из столбца по их значению.\n",
    "\n",
    "Категоризировать будем четыре столбца: 'CreditScore', 'Age', 'Balance' и 'EstimatedSalary'.\n",
    "\n",
    "У значений столбца 'CreditScore' будет три категории: 'low' - ниже 550 рейтинга, 'medium' - от 550 до 750 и 'high' - выше 750 рейтинга.\n",
    "\n",
    "У значений столбца 'Age' будет три категории: 'young' - все младше 35 лет, 'midlife' - от 35 до 50 лет, 'elderly' - все старше 50 лет.\n",
    "\n",
    "У значений столбца 'Balance' будет четыре категории: 'null' - нулевой баланс, 'low' - ниже 100 тыс., 'medium' - от 100 до 150 тыс., 'high' - выше 150 тыс.\n",
    "\n",
    "У значений столбца 'EstimatedSalary' будет три категории: 'low' - ниже 50 тыс., 'medium' - от 50 до 150 тыс. и 'high' - от 150 тыс.\n",
    "\n",
    "Стоит отметить, что этот метод далеко не всегда является самым результативным (как в данном случае)."
   ]
  },
  {
   "cell_type": "code",
   "execution_count": 7,
   "metadata": {},
   "outputs": [
    {
     "name": "stdout",
     "output_type": "stream",
     "text": [
      "<class 'pandas.core.frame.DataFrame'>\n",
      "RangeIndex: 10000 entries, 0 to 9999\n",
      "Data columns (total 15 columns):\n",
      " #   Column                    Non-Null Count  Dtype  \n",
      "---  ------                    --------------  -----  \n",
      " 0   CreditScore               10000 non-null  int64  \n",
      " 1   Geography                 10000 non-null  object \n",
      " 2   Gender                    10000 non-null  object \n",
      " 3   Age                       10000 non-null  int64  \n",
      " 4   Tenure                    10000 non-null  float64\n",
      " 5   Balance                   10000 non-null  float64\n",
      " 6   NumOfProducts             10000 non-null  int64  \n",
      " 7   HasCrCard                 10000 non-null  int64  \n",
      " 8   IsActiveMember            10000 non-null  int64  \n",
      " 9   EstimatedSalary           10000 non-null  float64\n",
      " 10  Exited                    10000 non-null  int64  \n",
      " 11  CreditScore_category      10000 non-null  object \n",
      " 12  Age_category              10000 non-null  object \n",
      " 13  Balance_category          10000 non-null  object \n",
      " 14  EstimatedSalary_category  10000 non-null  object \n",
      "dtypes: float64(3), int64(6), object(6)\n",
      "memory usage: 1.1+ MB\n"
     ]
    },
    {
     "data": {
      "text/html": [
       "<div>\n",
       "<style scoped>\n",
       "    .dataframe tbody tr th:only-of-type {\n",
       "        vertical-align: middle;\n",
       "    }\n",
       "\n",
       "    .dataframe tbody tr th {\n",
       "        vertical-align: top;\n",
       "    }\n",
       "\n",
       "    .dataframe thead th {\n",
       "        text-align: right;\n",
       "    }\n",
       "</style>\n",
       "<table border=\"1\" class=\"dataframe\">\n",
       "  <thead>\n",
       "    <tr style=\"text-align: right;\">\n",
       "      <th></th>\n",
       "      <th>CreditScore</th>\n",
       "      <th>Geography</th>\n",
       "      <th>Gender</th>\n",
       "      <th>Age</th>\n",
       "      <th>Tenure</th>\n",
       "      <th>Balance</th>\n",
       "      <th>NumOfProducts</th>\n",
       "      <th>HasCrCard</th>\n",
       "      <th>IsActiveMember</th>\n",
       "      <th>EstimatedSalary</th>\n",
       "      <th>Exited</th>\n",
       "      <th>CreditScore_category</th>\n",
       "      <th>Age_category</th>\n",
       "      <th>Balance_category</th>\n",
       "      <th>EstimatedSalary_category</th>\n",
       "    </tr>\n",
       "  </thead>\n",
       "  <tbody>\n",
       "    <tr>\n",
       "      <th>0</th>\n",
       "      <td>619</td>\n",
       "      <td>France</td>\n",
       "      <td>Female</td>\n",
       "      <td>42</td>\n",
       "      <td>2.0</td>\n",
       "      <td>0.00</td>\n",
       "      <td>1</td>\n",
       "      <td>1</td>\n",
       "      <td>1</td>\n",
       "      <td>101348.88</td>\n",
       "      <td>1</td>\n",
       "      <td>medium</td>\n",
       "      <td>midlife</td>\n",
       "      <td>null</td>\n",
       "      <td>medium</td>\n",
       "    </tr>\n",
       "    <tr>\n",
       "      <th>1</th>\n",
       "      <td>608</td>\n",
       "      <td>Spain</td>\n",
       "      <td>Female</td>\n",
       "      <td>41</td>\n",
       "      <td>1.0</td>\n",
       "      <td>83807.86</td>\n",
       "      <td>1</td>\n",
       "      <td>0</td>\n",
       "      <td>1</td>\n",
       "      <td>112542.58</td>\n",
       "      <td>0</td>\n",
       "      <td>medium</td>\n",
       "      <td>midlife</td>\n",
       "      <td>low</td>\n",
       "      <td>medium</td>\n",
       "    </tr>\n",
       "    <tr>\n",
       "      <th>2</th>\n",
       "      <td>502</td>\n",
       "      <td>France</td>\n",
       "      <td>Female</td>\n",
       "      <td>42</td>\n",
       "      <td>8.0</td>\n",
       "      <td>159660.80</td>\n",
       "      <td>3</td>\n",
       "      <td>1</td>\n",
       "      <td>0</td>\n",
       "      <td>113931.57</td>\n",
       "      <td>1</td>\n",
       "      <td>low</td>\n",
       "      <td>midlife</td>\n",
       "      <td>high</td>\n",
       "      <td>medium</td>\n",
       "    </tr>\n",
       "    <tr>\n",
       "      <th>3</th>\n",
       "      <td>699</td>\n",
       "      <td>France</td>\n",
       "      <td>Female</td>\n",
       "      <td>39</td>\n",
       "      <td>1.0</td>\n",
       "      <td>0.00</td>\n",
       "      <td>2</td>\n",
       "      <td>0</td>\n",
       "      <td>0</td>\n",
       "      <td>93826.63</td>\n",
       "      <td>0</td>\n",
       "      <td>medium</td>\n",
       "      <td>midlife</td>\n",
       "      <td>null</td>\n",
       "      <td>medium</td>\n",
       "    </tr>\n",
       "    <tr>\n",
       "      <th>4</th>\n",
       "      <td>850</td>\n",
       "      <td>Spain</td>\n",
       "      <td>Female</td>\n",
       "      <td>43</td>\n",
       "      <td>2.0</td>\n",
       "      <td>125510.82</td>\n",
       "      <td>1</td>\n",
       "      <td>1</td>\n",
       "      <td>1</td>\n",
       "      <td>79084.10</td>\n",
       "      <td>0</td>\n",
       "      <td>high</td>\n",
       "      <td>midlife</td>\n",
       "      <td>medium</td>\n",
       "      <td>medium</td>\n",
       "    </tr>\n",
       "  </tbody>\n",
       "</table>\n",
       "</div>"
      ],
      "text/plain": [
       "   CreditScore Geography  Gender  Age  Tenure    Balance  NumOfProducts  \\\n",
       "0          619    France  Female   42     2.0       0.00              1   \n",
       "1          608     Spain  Female   41     1.0   83807.86              1   \n",
       "2          502    France  Female   42     8.0  159660.80              3   \n",
       "3          699    France  Female   39     1.0       0.00              2   \n",
       "4          850     Spain  Female   43     2.0  125510.82              1   \n",
       "\n",
       "   HasCrCard  IsActiveMember  EstimatedSalary  Exited CreditScore_category  \\\n",
       "0          1               1        101348.88       1               medium   \n",
       "1          0               1        112542.58       0               medium   \n",
       "2          1               0        113931.57       1                  low   \n",
       "3          0               0         93826.63       0               medium   \n",
       "4          1               1         79084.10       0                 high   \n",
       "\n",
       "  Age_category Balance_category EstimatedSalary_category  \n",
       "0      midlife             null                   medium  \n",
       "1      midlife              low                   medium  \n",
       "2      midlife             high                   medium  \n",
       "3      midlife             null                   medium  \n",
       "4      midlife           medium                   medium  "
      ]
     },
     "execution_count": 7,
     "metadata": {},
     "output_type": "execute_result"
    }
   ],
   "source": [
    "#создаём функции для определения категории\n",
    "def get_CreditScore_category(row):\n",
    "    CreditScore = row['CreditScore']\n",
    "    if (CreditScore < 550): return 'low'\n",
    "    elif (CreditScore > 750): return 'high'\n",
    "    else: return 'medium'\n",
    "    \n",
    "def get_age_category(row):\n",
    "    age = row['Age']\n",
    "    if (age < 35): return 'young'\n",
    "    elif (age > 50): return 'elderly'\n",
    "    else: return 'midlife'\n",
    "    \n",
    "def get_balance_category(row):\n",
    "    balance = row['Balance']\n",
    "    if (balance == 0): return 'null'\n",
    "    elif (balance < 100_000): return 'low'\n",
    "    elif (balance > 150_000): return 'high'\n",
    "    else: return 'medium'\n",
    "    \n",
    "def get_EstimatedSalary_category(row):\n",
    "    EstimatedSalary = row['EstimatedSalary']\n",
    "    if (EstimatedSalary < 50_000): return 'low'\n",
    "    elif (EstimatedSalary > 150_000): return 'high'\n",
    "    else: return 'medium'\n",
    "\n",
    "#выполняем функции\n",
    "train_data['CreditScore_category'] = train_data.apply(get_CreditScore_category, axis=1)\n",
    "train_data['Age_category'] = train_data.apply(get_age_category, axis=1)\n",
    "train_data['Balance_category'] = train_data.apply(get_balance_category, axis=1)\n",
    "train_data['EstimatedSalary_category'] = train_data.apply(get_EstimatedSalary_category, axis=1)\n",
    "\n",
    "#изучаем преобразованный датасет\n",
    "train_data.info()\n",
    "train_data.head()"
   ]
  },
  {
   "cell_type": "markdown",
   "metadata": {},
   "source": [
    "Данные категоризованы, но исходные столбцы удалять не будем. Разобьём на выборки, эксперименируя со столбцами, а потом сравним результаты и выберем лучший."
   ]
  },
  {
   "cell_type": "markdown",
   "metadata": {},
   "source": [
    "### Разбиение на выборки\n",
    "\n",
    "Теперь разобьём готовые данные на три выборки: тренировочную, валидационную и тестовую в соотношение 60:20:20. Это оптимальное соотношение для текущего объёма данных и задачи. Не стоит забывать про параметр stratify у метода train_test_split, чтобы обеспечить баланс классов. \n",
    "\n",
    "Важно отметить, что мы создадим три выборки признаков для обучения модели. Одна будет основана на категориях, которые мы создали по признакам, вторая - на изначальных признаках датасета, а третья объединит обе. \n",
    "\n",
    "В процессе выполнения проекта проверим результативность модели на каждой из обучающих выборок и выберем оптимальную."
   ]
  },
  {
   "cell_type": "code",
   "execution_count": 8,
   "metadata": {},
   "outputs": [
    {
     "name": "stdout",
     "output_type": "stream",
     "text": [
      "Размер обучающей выборки: 6000\n",
      "Размер валидационной выборки: 2000\n",
      "Размер тестовой выборки: 2000\n"
     ]
    }
   ],
   "source": [
    "#импортируем библиотеку для разбиения на выборки\n",
    "from sklearn.model_selection import train_test_split\n",
    "\n",
    "#определяем признаки и целевой признак\n",
    "features = train_data.drop(columns=['CreditScore', 'Age', 'Balance', 'EstimatedSalary', 'Exited'])\n",
    "target = train_data['Exited']\n",
    "\n",
    "features_2var = train_data.drop(train_data.iloc[:, 12:22], axis = 1)\n",
    "features_2var = features_2var.drop(columns=['Exited', 'CreditScore_category'])\n",
    "\n",
    "features_3var = train_data.drop('Exited', axis=1)\n",
    "\n",
    "# делим выборки на обучающую+валидационную и тестовую\n",
    "features_train, features_test, target_train, target_test = train_test_split(features_3var, \n",
    "                                                                            target, \n",
    "                                                                            test_size=0.2,\n",
    "                                                                            stratify=target,\n",
    "                                                                            random_state=12345)\n",
    "\n",
    "# обучаюшую+валидационную делим между собой\n",
    "features_train, features_valid, target_train, target_valid = train_test_split(features_train, \n",
    "                                                                              target_train, \n",
    "                                                                              test_size=0.25,\n",
    "                                                                              stratify=target_train,\n",
    "                                                                              random_state=12345)\n",
    "\n",
    "# проверяем размеры выборок\n",
    "print('Размер обучающей выборки:', len(target_train))\n",
    "print('Размер валидационной выборки:', len(target_valid))\n",
    "print('Размер тестовой выборки:', len(target_test))"
   ]
  },
  {
   "cell_type": "markdown",
   "metadata": {},
   "source": [
    "Данные были предобработаны, подготовлены для обучения и разбиты на выборки. Теперь можно приступать к исследованию задачи и тестированию моделей."
   ]
  },
  {
   "cell_type": "markdown",
   "metadata": {},
   "source": [
    "### Кодирование категориалльных признаков\n",
    "\n",
    "Теперь займёмся кодированием категориальных признаков. Как мы видим, у нас есть два вида категориальных признаков в датасете: те, которые имеют какой-то ранг (возрастная категория, заработка и т.п), и те, которые не имеют (страна проживания, пол).\n",
    "\n",
    "Для тех, что имеют какой-то ранг, лучше использовать порядковое кодирование, т.е присваивание каждой категории числового значения (0 и натуральные числа). Это удобно при сравнивании категорий, потому что чем она выше, тем больше у неё числовое значения. Для точности предсказаний случайного леса это не имеет значения, но может поднять f1-меру. \n",
    "\n",
    "Для тех значений, что ранг не имеют, применим прямое кодирование с параметров drop_first равным True. Применение прямого кодирования нежелательно в древовидных алгоритмах, но для таких признаков лучше применять прямое кодирование."
   ]
  },
  {
   "cell_type": "code",
   "execution_count": 9,
   "metadata": {},
   "outputs": [
    {
     "data": {
      "text/html": [
       "<div>\n",
       "<style scoped>\n",
       "    .dataframe tbody tr th:only-of-type {\n",
       "        vertical-align: middle;\n",
       "    }\n",
       "\n",
       "    .dataframe tbody tr th {\n",
       "        vertical-align: top;\n",
       "    }\n",
       "\n",
       "    .dataframe thead th {\n",
       "        text-align: right;\n",
       "    }\n",
       "</style>\n",
       "<table border=\"1\" class=\"dataframe\">\n",
       "  <thead>\n",
       "    <tr style=\"text-align: right;\">\n",
       "      <th></th>\n",
       "      <th>CreditScore</th>\n",
       "      <th>Age</th>\n",
       "      <th>Tenure</th>\n",
       "      <th>Balance</th>\n",
       "      <th>NumOfProducts</th>\n",
       "      <th>HasCrCard</th>\n",
       "      <th>IsActiveMember</th>\n",
       "      <th>EstimatedSalary</th>\n",
       "      <th>CreditScore_category</th>\n",
       "      <th>Age_category</th>\n",
       "      <th>Balance_category</th>\n",
       "      <th>EstimatedSalary_category</th>\n",
       "      <th>Geography_Germany</th>\n",
       "      <th>Geography_Spain</th>\n",
       "      <th>Gender_Male</th>\n",
       "    </tr>\n",
       "  </thead>\n",
       "  <tbody>\n",
       "    <tr>\n",
       "      <th>5536</th>\n",
       "      <td>636</td>\n",
       "      <td>45</td>\n",
       "      <td>9.0</td>\n",
       "      <td>0.00</td>\n",
       "      <td>2</td>\n",
       "      <td>1</td>\n",
       "      <td>1</td>\n",
       "      <td>159463.80</td>\n",
       "      <td>2.0</td>\n",
       "      <td>1.0</td>\n",
       "      <td>3.0</td>\n",
       "      <td>0.0</td>\n",
       "      <td>0</td>\n",
       "      <td>1</td>\n",
       "      <td>1</td>\n",
       "    </tr>\n",
       "    <tr>\n",
       "      <th>8530</th>\n",
       "      <td>808</td>\n",
       "      <td>33</td>\n",
       "      <td>2.0</td>\n",
       "      <td>103516.87</td>\n",
       "      <td>1</td>\n",
       "      <td>1</td>\n",
       "      <td>0</td>\n",
       "      <td>113907.80</td>\n",
       "      <td>0.0</td>\n",
       "      <td>2.0</td>\n",
       "      <td>2.0</td>\n",
       "      <td>2.0</td>\n",
       "      <td>0</td>\n",
       "      <td>0</td>\n",
       "      <td>0</td>\n",
       "    </tr>\n",
       "    <tr>\n",
       "      <th>1762</th>\n",
       "      <td>758</td>\n",
       "      <td>34</td>\n",
       "      <td>1.0</td>\n",
       "      <td>154139.45</td>\n",
       "      <td>1</td>\n",
       "      <td>1</td>\n",
       "      <td>1</td>\n",
       "      <td>60728.89</td>\n",
       "      <td>0.0</td>\n",
       "      <td>2.0</td>\n",
       "      <td>0.0</td>\n",
       "      <td>2.0</td>\n",
       "      <td>0</td>\n",
       "      <td>0</td>\n",
       "      <td>0</td>\n",
       "    </tr>\n",
       "    <tr>\n",
       "      <th>9090</th>\n",
       "      <td>809</td>\n",
       "      <td>39</td>\n",
       "      <td>5.0</td>\n",
       "      <td>0.00</td>\n",
       "      <td>1</td>\n",
       "      <td>1</td>\n",
       "      <td>0</td>\n",
       "      <td>77705.75</td>\n",
       "      <td>0.0</td>\n",
       "      <td>1.0</td>\n",
       "      <td>3.0</td>\n",
       "      <td>2.0</td>\n",
       "      <td>0</td>\n",
       "      <td>0</td>\n",
       "      <td>0</td>\n",
       "    </tr>\n",
       "    <tr>\n",
       "      <th>8777</th>\n",
       "      <td>603</td>\n",
       "      <td>24</td>\n",
       "      <td>1.0</td>\n",
       "      <td>165149.13</td>\n",
       "      <td>2</td>\n",
       "      <td>1</td>\n",
       "      <td>0</td>\n",
       "      <td>21858.28</td>\n",
       "      <td>2.0</td>\n",
       "      <td>2.0</td>\n",
       "      <td>0.0</td>\n",
       "      <td>1.0</td>\n",
       "      <td>0</td>\n",
       "      <td>1</td>\n",
       "      <td>1</td>\n",
       "    </tr>\n",
       "    <tr>\n",
       "      <th>...</th>\n",
       "      <td>...</td>\n",
       "      <td>...</td>\n",
       "      <td>...</td>\n",
       "      <td>...</td>\n",
       "      <td>...</td>\n",
       "      <td>...</td>\n",
       "      <td>...</td>\n",
       "      <td>...</td>\n",
       "      <td>...</td>\n",
       "      <td>...</td>\n",
       "      <td>...</td>\n",
       "      <td>...</td>\n",
       "      <td>...</td>\n",
       "      <td>...</td>\n",
       "      <td>...</td>\n",
       "    </tr>\n",
       "    <tr>\n",
       "      <th>2956</th>\n",
       "      <td>792</td>\n",
       "      <td>30</td>\n",
       "      <td>8.0</td>\n",
       "      <td>0.00</td>\n",
       "      <td>2</td>\n",
       "      <td>1</td>\n",
       "      <td>0</td>\n",
       "      <td>199644.20</td>\n",
       "      <td>0.0</td>\n",
       "      <td>2.0</td>\n",
       "      <td>3.0</td>\n",
       "      <td>0.0</td>\n",
       "      <td>0</td>\n",
       "      <td>0</td>\n",
       "      <td>1</td>\n",
       "    </tr>\n",
       "    <tr>\n",
       "      <th>667</th>\n",
       "      <td>503</td>\n",
       "      <td>29</td>\n",
       "      <td>3.0</td>\n",
       "      <td>0.00</td>\n",
       "      <td>2</td>\n",
       "      <td>1</td>\n",
       "      <td>1</td>\n",
       "      <td>143954.99</td>\n",
       "      <td>1.0</td>\n",
       "      <td>2.0</td>\n",
       "      <td>3.0</td>\n",
       "      <td>2.0</td>\n",
       "      <td>0</td>\n",
       "      <td>0</td>\n",
       "      <td>1</td>\n",
       "    </tr>\n",
       "    <tr>\n",
       "      <th>7371</th>\n",
       "      <td>850</td>\n",
       "      <td>30</td>\n",
       "      <td>10.0</td>\n",
       "      <td>153972.89</td>\n",
       "      <td>2</td>\n",
       "      <td>1</td>\n",
       "      <td>0</td>\n",
       "      <td>62811.03</td>\n",
       "      <td>0.0</td>\n",
       "      <td>2.0</td>\n",
       "      <td>0.0</td>\n",
       "      <td>2.0</td>\n",
       "      <td>0</td>\n",
       "      <td>0</td>\n",
       "      <td>1</td>\n",
       "    </tr>\n",
       "    <tr>\n",
       "      <th>9472</th>\n",
       "      <td>775</td>\n",
       "      <td>74</td>\n",
       "      <td>0.0</td>\n",
       "      <td>161371.50</td>\n",
       "      <td>1</td>\n",
       "      <td>1</td>\n",
       "      <td>1</td>\n",
       "      <td>134869.93</td>\n",
       "      <td>0.0</td>\n",
       "      <td>0.0</td>\n",
       "      <td>0.0</td>\n",
       "      <td>2.0</td>\n",
       "      <td>1</td>\n",
       "      <td>0</td>\n",
       "      <td>0</td>\n",
       "    </tr>\n",
       "    <tr>\n",
       "      <th>8193</th>\n",
       "      <td>592</td>\n",
       "      <td>66</td>\n",
       "      <td>5.0</td>\n",
       "      <td>149950.19</td>\n",
       "      <td>1</td>\n",
       "      <td>1</td>\n",
       "      <td>1</td>\n",
       "      <td>76267.59</td>\n",
       "      <td>2.0</td>\n",
       "      <td>0.0</td>\n",
       "      <td>2.0</td>\n",
       "      <td>2.0</td>\n",
       "      <td>0</td>\n",
       "      <td>0</td>\n",
       "      <td>0</td>\n",
       "    </tr>\n",
       "  </tbody>\n",
       "</table>\n",
       "<p>6000 rows × 15 columns</p>\n",
       "</div>"
      ],
      "text/plain": [
       "      CreditScore  Age  Tenure    Balance  NumOfProducts  HasCrCard  \\\n",
       "5536          636   45     9.0       0.00              2          1   \n",
       "8530          808   33     2.0  103516.87              1          1   \n",
       "1762          758   34     1.0  154139.45              1          1   \n",
       "9090          809   39     5.0       0.00              1          1   \n",
       "8777          603   24     1.0  165149.13              2          1   \n",
       "...           ...  ...     ...        ...            ...        ...   \n",
       "2956          792   30     8.0       0.00              2          1   \n",
       "667           503   29     3.0       0.00              2          1   \n",
       "7371          850   30    10.0  153972.89              2          1   \n",
       "9472          775   74     0.0  161371.50              1          1   \n",
       "8193          592   66     5.0  149950.19              1          1   \n",
       "\n",
       "      IsActiveMember  EstimatedSalary  CreditScore_category  Age_category  \\\n",
       "5536               1        159463.80                   2.0           1.0   \n",
       "8530               0        113907.80                   0.0           2.0   \n",
       "1762               1         60728.89                   0.0           2.0   \n",
       "9090               0         77705.75                   0.0           1.0   \n",
       "8777               0         21858.28                   2.0           2.0   \n",
       "...              ...              ...                   ...           ...   \n",
       "2956               0        199644.20                   0.0           2.0   \n",
       "667                1        143954.99                   1.0           2.0   \n",
       "7371               0         62811.03                   0.0           2.0   \n",
       "9472               1        134869.93                   0.0           0.0   \n",
       "8193               1         76267.59                   2.0           0.0   \n",
       "\n",
       "      Balance_category  EstimatedSalary_category  Geography_Germany  \\\n",
       "5536               3.0                       0.0                  0   \n",
       "8530               2.0                       2.0                  0   \n",
       "1762               0.0                       2.0                  0   \n",
       "9090               3.0                       2.0                  0   \n",
       "8777               0.0                       1.0                  0   \n",
       "...                ...                       ...                ...   \n",
       "2956               3.0                       0.0                  0   \n",
       "667                3.0                       2.0                  0   \n",
       "7371               0.0                       2.0                  0   \n",
       "9472               0.0                       2.0                  1   \n",
       "8193               2.0                       2.0                  0   \n",
       "\n",
       "      Geography_Spain  Gender_Male  \n",
       "5536                1            1  \n",
       "8530                0            0  \n",
       "1762                0            0  \n",
       "9090                0            0  \n",
       "8777                1            1  \n",
       "...               ...          ...  \n",
       "2956                0            1  \n",
       "667                 0            1  \n",
       "7371                0            1  \n",
       "9472                0            0  \n",
       "8193                0            0  \n",
       "\n",
       "[6000 rows x 15 columns]"
      ]
     },
     "execution_count": 9,
     "metadata": {},
     "output_type": "execute_result"
    }
   ],
   "source": [
    "#импортируем библиотеку\n",
    "from sklearn.preprocessing import OrdinalEncoder\n",
    "\n",
    "#определяем два массива категориальных признаков для разных видов кодирования\n",
    "ordinal = ['CreditScore_category', 'Age_category', 'Balance_category', 'EstimatedSalary_category']\n",
    "ohe = ['Geography', 'Gender']\n",
    "\n",
    "#применим порядковое кодирование \n",
    "encoder = OrdinalEncoder()\n",
    "encoder.fit(features_train[ordinal]) \n",
    "features_train[ordinal] = encoder.transform(features_train[ordinal])\n",
    "features_valid[ordinal] = encoder.transform(features_valid[ordinal])\n",
    "features_test[ordinal] = encoder.transform(features_test[ordinal])\n",
    "\n",
    "# #применим прямое кодирование\n",
    "features_train = pd.get_dummies(features_train, columns=ohe, drop_first=True)\n",
    "features_valid = pd.get_dummies(features_valid, columns=ohe, drop_first=True)\n",
    "features_test = pd.get_dummies(features_test, columns=ohe, drop_first=True)\n",
    "\n",
    "#смотрим результат на тренировочной выборке\n",
    "features_train"
   ]
  },
  {
   "cell_type": "markdown",
   "metadata": {},
   "source": [
    "### Масштабирование признаков\n",
    "\n",
    "После разбиения на выборки и кодирования категориальных признаков масштабируем количественные значения. Масштабирование приведёт все числовые значения (результаты кодирований обрабатывать не будем) к распределению со средним 0 и дисперсией 1. Это поможет модели проще обучаться и дать лучший результат."
   ]
  },
  {
   "cell_type": "code",
   "execution_count": 10,
   "metadata": {},
   "outputs": [
    {
     "data": {
      "text/html": [
       "<div>\n",
       "<style scoped>\n",
       "    .dataframe tbody tr th:only-of-type {\n",
       "        vertical-align: middle;\n",
       "    }\n",
       "\n",
       "    .dataframe tbody tr th {\n",
       "        vertical-align: top;\n",
       "    }\n",
       "\n",
       "    .dataframe thead th {\n",
       "        text-align: right;\n",
       "    }\n",
       "</style>\n",
       "<table border=\"1\" class=\"dataframe\">\n",
       "  <thead>\n",
       "    <tr style=\"text-align: right;\">\n",
       "      <th></th>\n",
       "      <th>CreditScore</th>\n",
       "      <th>Age</th>\n",
       "      <th>Tenure</th>\n",
       "      <th>Balance</th>\n",
       "      <th>NumOfProducts</th>\n",
       "      <th>HasCrCard</th>\n",
       "      <th>IsActiveMember</th>\n",
       "      <th>EstimatedSalary</th>\n",
       "      <th>CreditScore_category</th>\n",
       "      <th>Age_category</th>\n",
       "      <th>Balance_category</th>\n",
       "      <th>EstimatedSalary_category</th>\n",
       "      <th>Geography_Germany</th>\n",
       "      <th>Geography_Spain</th>\n",
       "      <th>Gender_Male</th>\n",
       "    </tr>\n",
       "  </thead>\n",
       "  <tbody>\n",
       "    <tr>\n",
       "      <th>5536</th>\n",
       "      <td>-0.143332</td>\n",
       "      <td>0.577533</td>\n",
       "      <td>1.366262</td>\n",
       "      <td>-1.220573</td>\n",
       "      <td>0.797767</td>\n",
       "      <td>1</td>\n",
       "      <td>1</td>\n",
       "      <td>1.029613</td>\n",
       "      <td>2.0</td>\n",
       "      <td>1.0</td>\n",
       "      <td>3.0</td>\n",
       "      <td>0.0</td>\n",
       "      <td>0</td>\n",
       "      <td>1</td>\n",
       "      <td>1</td>\n",
       "    </tr>\n",
       "    <tr>\n",
       "      <th>8530</th>\n",
       "      <td>1.632702</td>\n",
       "      <td>-0.564119</td>\n",
       "      <td>-1.033596</td>\n",
       "      <td>0.435807</td>\n",
       "      <td>-0.916018</td>\n",
       "      <td>1</td>\n",
       "      <td>0</td>\n",
       "      <td>0.237986</td>\n",
       "      <td>0.0</td>\n",
       "      <td>2.0</td>\n",
       "      <td>2.0</td>\n",
       "      <td>2.0</td>\n",
       "      <td>0</td>\n",
       "      <td>0</td>\n",
       "      <td>0</td>\n",
       "    </tr>\n",
       "    <tr>\n",
       "      <th>1762</th>\n",
       "      <td>1.116413</td>\n",
       "      <td>-0.468981</td>\n",
       "      <td>-1.376433</td>\n",
       "      <td>1.245822</td>\n",
       "      <td>-0.916018</td>\n",
       "      <td>1</td>\n",
       "      <td>1</td>\n",
       "      <td>-0.686104</td>\n",
       "      <td>0.0</td>\n",
       "      <td>2.0</td>\n",
       "      <td>0.0</td>\n",
       "      <td>2.0</td>\n",
       "      <td>0</td>\n",
       "      <td>0</td>\n",
       "      <td>0</td>\n",
       "    </tr>\n",
       "    <tr>\n",
       "      <th>9090</th>\n",
       "      <td>1.643028</td>\n",
       "      <td>0.006707</td>\n",
       "      <td>-0.005085</td>\n",
       "      <td>-1.220573</td>\n",
       "      <td>-0.916018</td>\n",
       "      <td>1</td>\n",
       "      <td>0</td>\n",
       "      <td>-0.391097</td>\n",
       "      <td>0.0</td>\n",
       "      <td>1.0</td>\n",
       "      <td>3.0</td>\n",
       "      <td>2.0</td>\n",
       "      <td>0</td>\n",
       "      <td>0</td>\n",
       "      <td>0</td>\n",
       "    </tr>\n",
       "    <tr>\n",
       "      <th>8777</th>\n",
       "      <td>-0.484083</td>\n",
       "      <td>-1.420358</td>\n",
       "      <td>-1.376433</td>\n",
       "      <td>1.421989</td>\n",
       "      <td>0.797767</td>\n",
       "      <td>1</td>\n",
       "      <td>0</td>\n",
       "      <td>-1.361559</td>\n",
       "      <td>2.0</td>\n",
       "      <td>2.0</td>\n",
       "      <td>0.0</td>\n",
       "      <td>1.0</td>\n",
       "      <td>0</td>\n",
       "      <td>1</td>\n",
       "      <td>1</td>\n",
       "    </tr>\n",
       "    <tr>\n",
       "      <th>...</th>\n",
       "      <td>...</td>\n",
       "      <td>...</td>\n",
       "      <td>...</td>\n",
       "      <td>...</td>\n",
       "      <td>...</td>\n",
       "      <td>...</td>\n",
       "      <td>...</td>\n",
       "      <td>...</td>\n",
       "      <td>...</td>\n",
       "      <td>...</td>\n",
       "      <td>...</td>\n",
       "      <td>...</td>\n",
       "      <td>...</td>\n",
       "      <td>...</td>\n",
       "      <td>...</td>\n",
       "    </tr>\n",
       "    <tr>\n",
       "      <th>2956</th>\n",
       "      <td>1.467489</td>\n",
       "      <td>-0.849532</td>\n",
       "      <td>1.023425</td>\n",
       "      <td>-1.220573</td>\n",
       "      <td>0.797767</td>\n",
       "      <td>1</td>\n",
       "      <td>0</td>\n",
       "      <td>1.727827</td>\n",
       "      <td>0.0</td>\n",
       "      <td>2.0</td>\n",
       "      <td>3.0</td>\n",
       "      <td>0.0</td>\n",
       "      <td>0</td>\n",
       "      <td>0</td>\n",
       "      <td>1</td>\n",
       "    </tr>\n",
       "    <tr>\n",
       "      <th>667</th>\n",
       "      <td>-1.516661</td>\n",
       "      <td>-0.944670</td>\n",
       "      <td>-0.690759</td>\n",
       "      <td>-1.220573</td>\n",
       "      <td>0.797767</td>\n",
       "      <td>1</td>\n",
       "      <td>1</td>\n",
       "      <td>0.760116</td>\n",
       "      <td>1.0</td>\n",
       "      <td>2.0</td>\n",
       "      <td>3.0</td>\n",
       "      <td>2.0</td>\n",
       "      <td>0</td>\n",
       "      <td>0</td>\n",
       "      <td>1</td>\n",
       "    </tr>\n",
       "    <tr>\n",
       "      <th>7371</th>\n",
       "      <td>2.066384</td>\n",
       "      <td>-0.849532</td>\n",
       "      <td>1.709099</td>\n",
       "      <td>1.243157</td>\n",
       "      <td>0.797767</td>\n",
       "      <td>1</td>\n",
       "      <td>0</td>\n",
       "      <td>-0.649923</td>\n",
       "      <td>0.0</td>\n",
       "      <td>2.0</td>\n",
       "      <td>0.0</td>\n",
       "      <td>2.0</td>\n",
       "      <td>0</td>\n",
       "      <td>0</td>\n",
       "      <td>1</td>\n",
       "    </tr>\n",
       "    <tr>\n",
       "      <th>9472</th>\n",
       "      <td>1.291951</td>\n",
       "      <td>3.336526</td>\n",
       "      <td>-1.719270</td>\n",
       "      <td>1.361543</td>\n",
       "      <td>-0.916018</td>\n",
       "      <td>1</td>\n",
       "      <td>1</td>\n",
       "      <td>0.602245</td>\n",
       "      <td>0.0</td>\n",
       "      <td>0.0</td>\n",
       "      <td>0.0</td>\n",
       "      <td>2.0</td>\n",
       "      <td>1</td>\n",
       "      <td>0</td>\n",
       "      <td>0</td>\n",
       "    </tr>\n",
       "    <tr>\n",
       "      <th>8193</th>\n",
       "      <td>-0.597666</td>\n",
       "      <td>2.575424</td>\n",
       "      <td>-0.005085</td>\n",
       "      <td>1.178790</td>\n",
       "      <td>-0.916018</td>\n",
       "      <td>1</td>\n",
       "      <td>1</td>\n",
       "      <td>-0.416088</td>\n",
       "      <td>2.0</td>\n",
       "      <td>0.0</td>\n",
       "      <td>2.0</td>\n",
       "      <td>2.0</td>\n",
       "      <td>0</td>\n",
       "      <td>0</td>\n",
       "      <td>0</td>\n",
       "    </tr>\n",
       "  </tbody>\n",
       "</table>\n",
       "<p>6000 rows × 15 columns</p>\n",
       "</div>"
      ],
      "text/plain": [
       "      CreditScore       Age    Tenure   Balance  NumOfProducts  HasCrCard  \\\n",
       "5536    -0.143332  0.577533  1.366262 -1.220573       0.797767          1   \n",
       "8530     1.632702 -0.564119 -1.033596  0.435807      -0.916018          1   \n",
       "1762     1.116413 -0.468981 -1.376433  1.245822      -0.916018          1   \n",
       "9090     1.643028  0.006707 -0.005085 -1.220573      -0.916018          1   \n",
       "8777    -0.484083 -1.420358 -1.376433  1.421989       0.797767          1   \n",
       "...           ...       ...       ...       ...            ...        ...   \n",
       "2956     1.467489 -0.849532  1.023425 -1.220573       0.797767          1   \n",
       "667     -1.516661 -0.944670 -0.690759 -1.220573       0.797767          1   \n",
       "7371     2.066384 -0.849532  1.709099  1.243157       0.797767          1   \n",
       "9472     1.291951  3.336526 -1.719270  1.361543      -0.916018          1   \n",
       "8193    -0.597666  2.575424 -0.005085  1.178790      -0.916018          1   \n",
       "\n",
       "      IsActiveMember  EstimatedSalary  CreditScore_category  Age_category  \\\n",
       "5536               1         1.029613                   2.0           1.0   \n",
       "8530               0         0.237986                   0.0           2.0   \n",
       "1762               1        -0.686104                   0.0           2.0   \n",
       "9090               0        -0.391097                   0.0           1.0   \n",
       "8777               0        -1.361559                   2.0           2.0   \n",
       "...              ...              ...                   ...           ...   \n",
       "2956               0         1.727827                   0.0           2.0   \n",
       "667                1         0.760116                   1.0           2.0   \n",
       "7371               0        -0.649923                   0.0           2.0   \n",
       "9472               1         0.602245                   0.0           0.0   \n",
       "8193               1        -0.416088                   2.0           0.0   \n",
       "\n",
       "      Balance_category  EstimatedSalary_category  Geography_Germany  \\\n",
       "5536               3.0                       0.0                  0   \n",
       "8530               2.0                       2.0                  0   \n",
       "1762               0.0                       2.0                  0   \n",
       "9090               3.0                       2.0                  0   \n",
       "8777               0.0                       1.0                  0   \n",
       "...                ...                       ...                ...   \n",
       "2956               3.0                       0.0                  0   \n",
       "667                3.0                       2.0                  0   \n",
       "7371               0.0                       2.0                  0   \n",
       "9472               0.0                       2.0                  1   \n",
       "8193               2.0                       2.0                  0   \n",
       "\n",
       "      Geography_Spain  Gender_Male  \n",
       "5536                1            1  \n",
       "8530                0            0  \n",
       "1762                0            0  \n",
       "9090                0            0  \n",
       "8777                1            1  \n",
       "...               ...          ...  \n",
       "2956                0            1  \n",
       "667                 0            1  \n",
       "7371                0            1  \n",
       "9472                0            0  \n",
       "8193                0            0  \n",
       "\n",
       "[6000 rows x 15 columns]"
      ]
     },
     "execution_count": 10,
     "metadata": {},
     "output_type": "execute_result"
    }
   ],
   "source": [
    "#импортируем структуру данных StandardScaler\n",
    "from sklearn.preprocessing import StandardScaler\n",
    "\n",
    "#определяем массив количественных признаков, которые нужно масштабировать\n",
    "numeric = ['CreditScore', 'Age', 'Tenure', 'Balance', 'NumOfProducts', 'EstimatedSalary']\n",
    "\n",
    "#создаём объект структуры данных StandardScaler и проведём масштабирование признаков\n",
    "scaler = StandardScaler()\n",
    "scaler.fit(features_train[numeric])\n",
    "\n",
    "#проведём масштабирование признаков\n",
    "features_train[numeric] = scaler.transform(features_train[numeric])\n",
    "features_valid[numeric] = scaler.transform(features_valid[numeric])\n",
    "features_test[numeric] = scaler.transform(features_test[numeric])\n",
    "\n",
    "#посмотрим результат\n",
    "features_train"
   ]
  },
  {
   "cell_type": "markdown",
   "metadata": {},
   "source": [
    "## Исследование задачи\n",
    "### Изучение классов\n",
    "\n",
    "Сначала посмотрим, сколько объектов каждого класса присутствует в данных"
   ]
  },
  {
   "cell_type": "code",
   "execution_count": 11,
   "metadata": {},
   "outputs": [
    {
     "data": {
      "text/plain": [
       "0    7963\n",
       "1    2037\n",
       "Name: Exited, dtype: int64"
      ]
     },
     "execution_count": 11,
     "metadata": {},
     "output_type": "execute_result"
    }
   ],
   "source": [
    "#смотрим все значения в столбце 'Exited'\n",
    "df['Exited'].value_counts()"
   ]
  },
  {
   "cell_type": "markdown",
   "metadata": {},
   "source": [
    "Объектов отрицательного класса почти в 4 раза больше объектов положительного класса. Эта разница может значичительно повлиять на результат обучения. Мы можем попробовать решить её 3 способами: \n",
    "\n",
    "1. Уменьшить выборку - удалить лишние объекты отрицательного класса\n",
    "2. Увеличить выборку - повторить несколько раз оъекты положительного класса\n",
    "3. Изменить порог классификации - изменить значение порога в пользу положительного класса.\n",
    "\n",
    "Прежде чем проверять какой-либо из способов, нужно посмотреть результаты работы моделей без каких-либо изменений. Будем проверять на двух моделях: линейной регрессии и случайном лесе. Далее выберем самую результативную, более подробно изучим её и будем повышать значения f1-меры.\n",
    "\n",
    "### Результативность логистической регрессии"
   ]
  },
  {
   "cell_type": "code",
   "execution_count": 12,
   "metadata": {},
   "outputs": [
    {
     "name": "stdout",
     "output_type": "stream",
     "text": [
      "--Валидационная выборка--\n",
      "Точность логистической регрессии: 0.819\n",
      "Значение f1-меры логистической регрессии: 0.32962962962962966\n"
     ]
    }
   ],
   "source": [
    "from sklearn.linear_model import LogisticRegression #логистическая регрессия\n",
    "from sklearn.metrics import f1_score #f1-мера\n",
    "\n",
    "#обучение модели и предсказание значений по валидационным признакам\n",
    "model = LogisticRegression(random_state=12345)\n",
    "model.fit(features_train, target_train)\n",
    "predicted_valid = model.predict(features_valid)\n",
    "\n",
    "#получение значений точности и f1-меры\n",
    "score = model.score(features_valid, target_valid)\n",
    "f1 = f1_score(target_valid, predicted_valid)\n",
    "\n",
    "#подведение итогов\n",
    "print('--Валидационная выборка--')\n",
    "print('Точность логистической регрессии:', score)\n",
    "print('Значение f1-меры логистической регрессии:', f1)"
   ]
  },
  {
   "cell_type": "markdown",
   "metadata": {},
   "source": [
    "Точность модели достаточно высокая - всего 1 из 5 предсказаний модели является ошибочным. Но значение f1-меры достаточно низкое. Это говорит нам о том, что модель плохо разбирается в классах и многие предсказания делает наугад.\n",
    "\n",
    "### Результативность случайного леса\n",
    "\n",
    "Теперь проверим результативность случайного леса с теми же данными. Но для начала определим оптимальную глубину и количество деревьев, которые дадут максимальное значение f1-меры."
   ]
  },
  {
   "cell_type": "code",
   "execution_count": 13,
   "metadata": {},
   "outputs": [
    {
     "name": "stdout",
     "output_type": "stream",
     "text": [
      "Лучшее значение f1-меры: 0.5636942675159236\n",
      "Точность при лучшей f1: 0.9653333333333334\n",
      "Лучшая глубина: 14\n",
      "Лучшее количество деревьев: 60\n"
     ]
    }
   ],
   "source": [
    "from sklearn.ensemble import RandomForestClassifier #случайный лес\n",
    "\n",
    "#определяем переменные для лучших параметров\n",
    "best_score = 0\n",
    "best_f1 = 0\n",
    "best_depth = 0\n",
    "best_estimators = 0\n",
    "best_model = None\n",
    "\n",
    "#определяем оптимальные параметры модели в цикле\n",
    "for estimators in range(10, 101, 10):\n",
    "    for depth in range(1, 16):\n",
    "        model = RandomForestClassifier(random_state=12345, max_depth=depth, n_estimators=estimators)\n",
    "        model.fit(features_train, target_train)\n",
    "        predicted_valid = model.predict(features_valid)\n",
    "        f1 = f1_score(target_valid, predicted_valid)\n",
    "        score = model.score(features_train, target_train)\n",
    "        if (f1 > best_f1):\n",
    "            best_f1 = f1\n",
    "            best_depth = depth\n",
    "            best_score = score\n",
    "            best_estimators = estimators\n",
    "            best_model = model\n",
    "\n",
    "#подводим итоги\n",
    "print('Лучшее значение f1-меры:', best_f1)\n",
    "print('Точность при лучшей f1:', best_score)\n",
    "print('Лучшая глубина:', best_depth)\n",
    "print('Лучшее количество деревьев:', best_estimators)"
   ]
  },
  {
   "cell_type": "markdown",
   "metadata": {},
   "source": [
    "По сравнению с логистической регрессией значение f1 радует, точность вообще приближена к идеальному результату. С одной стороны это очень хорошо, но с другой - при такой низкой f1 такая высокая точность напрягает. Скорее всего один из классов модель распознаёт намного хуже. Изучим это чуть позже.\n",
    "\n",
    "Также мы определили оптимальные значения глубины и количества деревьев для модели. Теперь построем модель с этими параметрами и уже будем работать с ней."
   ]
  },
  {
   "cell_type": "markdown",
   "metadata": {},
   "source": [
    "### Исследование важности признаков в модели случайного леса\n",
    "\n",
    "Прежде чем продолжить и перейти к изучению матрицы ошибок, изучим важность признаков в полученной нами модели. Для этого воспользуемся библиотекой seaborn и построим график с таблицей."
   ]
  },
  {
   "cell_type": "code",
   "execution_count": 14,
   "metadata": {},
   "outputs": [
    {
     "data": {
      "image/png": "[encoded data removed]",
      "text/plain": [
       "<Figure size 2160x1080 with 1 Axes>"
      ]
     },
     "metadata": {},
     "output_type": "display_data"
    },
    {
     "data": {
      "text/plain": [
       "None"
      ]
     },
     "metadata": {},
     "output_type": "display_data"
    },
    {
     "data": {
      "text/html": [
       "<div>\n",
       "<style scoped>\n",
       "    .dataframe tbody tr th:only-of-type {\n",
       "        vertical-align: middle;\n",
       "    }\n",
       "\n",
       "    .dataframe tbody tr th {\n",
       "        vertical-align: top;\n",
       "    }\n",
       "\n",
       "    .dataframe thead th {\n",
       "        text-align: right;\n",
       "    }\n",
       "</style>\n",
       "<table border=\"1\" class=\"dataframe\">\n",
       "  <thead>\n",
       "    <tr style=\"text-align: right;\">\n",
       "      <th></th>\n",
       "      <th>Features</th>\n",
       "      <th>Gini-Importance</th>\n",
       "    </tr>\n",
       "  </thead>\n",
       "  <tbody>\n",
       "    <tr>\n",
       "      <th>0</th>\n",
       "      <td>Age</td>\n",
       "      <td>0.190825</td>\n",
       "    </tr>\n",
       "    <tr>\n",
       "      <th>1</th>\n",
       "      <td>NumOfProducts</td>\n",
       "      <td>0.143489</td>\n",
       "    </tr>\n",
       "    <tr>\n",
       "      <th>2</th>\n",
       "      <td>CreditScore</td>\n",
       "      <td>0.114059</td>\n",
       "    </tr>\n",
       "    <tr>\n",
       "      <th>3</th>\n",
       "      <td>EstimatedSalary</td>\n",
       "      <td>0.112405</td>\n",
       "    </tr>\n",
       "    <tr>\n",
       "      <th>4</th>\n",
       "      <td>Balance</td>\n",
       "      <td>0.102434</td>\n",
       "    </tr>\n",
       "    <tr>\n",
       "      <th>5</th>\n",
       "      <td>Tenure</td>\n",
       "      <td>0.071835</td>\n",
       "    </tr>\n",
       "    <tr>\n",
       "      <th>6</th>\n",
       "      <td>Age_category</td>\n",
       "      <td>0.057959</td>\n",
       "    </tr>\n",
       "    <tr>\n",
       "      <th>7</th>\n",
       "      <td>IsActiveMember</td>\n",
       "      <td>0.056088</td>\n",
       "    </tr>\n",
       "    <tr>\n",
       "      <th>8</th>\n",
       "      <td>Balance_category</td>\n",
       "      <td>0.030183</td>\n",
       "    </tr>\n",
       "    <tr>\n",
       "      <th>9</th>\n",
       "      <td>Geography_Germany</td>\n",
       "      <td>0.025608</td>\n",
       "    </tr>\n",
       "    <tr>\n",
       "      <th>10</th>\n",
       "      <td>EstimatedSalary_category</td>\n",
       "      <td>0.023524</td>\n",
       "    </tr>\n",
       "    <tr>\n",
       "      <th>11</th>\n",
       "      <td>Gender_Male</td>\n",
       "      <td>0.020467</td>\n",
       "    </tr>\n",
       "    <tr>\n",
       "      <th>12</th>\n",
       "      <td>CreditScore_category</td>\n",
       "      <td>0.019525</td>\n",
       "    </tr>\n",
       "    <tr>\n",
       "      <th>13</th>\n",
       "      <td>HasCrCard</td>\n",
       "      <td>0.018256</td>\n",
       "    </tr>\n",
       "    <tr>\n",
       "      <th>14</th>\n",
       "      <td>Geography_Spain</td>\n",
       "      <td>0.013343</td>\n",
       "    </tr>\n",
       "  </tbody>\n",
       "</table>\n",
       "</div>"
      ],
      "text/plain": [
       "                    Features  Gini-Importance\n",
       "0                        Age         0.190825\n",
       "1              NumOfProducts         0.143489\n",
       "2                CreditScore         0.114059\n",
       "3            EstimatedSalary         0.112405\n",
       "4                    Balance         0.102434\n",
       "5                     Tenure         0.071835\n",
       "6               Age_category         0.057959\n",
       "7             IsActiveMember         0.056088\n",
       "8           Balance_category         0.030183\n",
       "9          Geography_Germany         0.025608\n",
       "10  EstimatedSalary_category         0.023524\n",
       "11               Gender_Male         0.020467\n",
       "12      CreditScore_category         0.019525\n",
       "13                 HasCrCard         0.018256\n",
       "14           Geography_Spain         0.013343"
      ]
     },
     "metadata": {},
     "output_type": "display_data"
    }
   ],
   "source": [
    "#импорт библиотеки\n",
    "import seaborn as sns\n",
    "\n",
    "#создаём словарь, в котором ключом будет название признака, а значением его важнось\n",
    "feats = {}\n",
    "\n",
    "#сохраним все данные в словарь\n",
    "for feature, importance in zip(features_train.columns, best_model.feature_importances_):\n",
    "    feats[feature] = importance\n",
    "\n",
    "#создадим датафрейм со значениями из словаря и приведём его к виду, удобному для построения графика\n",
    "importances = pd.DataFrame.from_dict(feats, orient='index').rename(columns={0: 'Gini-Importance'})\n",
    "importances = importances.sort_values(by='Gini-Importance', ascending=False)\n",
    "importances = importances.reset_index()\n",
    "importances = importances.rename(columns={'index': 'Features'})\n",
    "\n",
    "#настроим график\n",
    "sns.set(font_scale = 5)\n",
    "sns.set(style=\"whitegrid\", color_codes=True, font_scale = 1.7)\n",
    "fig, ax = plt.subplots()\n",
    "fig.set_size_inches(30,15)\n",
    "sns.barplot(x=importances['Gini-Importance'], y=importances['Features'], data=importances, color='skyblue')\n",
    "plt.xlabel('Importance', fontsize=25, weight = 'bold')\n",
    "plt.ylabel('Features', fontsize=25, weight = 'bold')\n",
    "plt.title('Feature Importance', fontsize=25, weight = 'bold')\n",
    "\n",
    "#отобразим график и таблицу значений важности для каждого признака\n",
    "display(plt.show())\n",
    "display(importances)"
   ]
  },
  {
   "cell_type": "markdown",
   "metadata": {},
   "source": [
    "А вот и получившийся график с таблицей. Мы можем увидеть, что самым важным для нас признаком является возраст и другие признаки, для которых мы создали категории. И например, возрастная категория действительно является хорошим признаком - целых 5 процентов важности! А вот, например, местонахождение в Испании для модели является не очень важным признаком.\n",
    "\n",
    "Хорошей практикой дальше после устранения дисбаланса будет немного поэкспериментировать с важностью признаков и определить, покажет ли модель лучший результат без некоторых из них."
   ]
  },
  {
   "cell_type": "markdown",
   "metadata": {},
   "source": [
    "Посмотрим соотношение классов в валидационной выборке и построим матрицу ошибок для неё. Так мы поймём, насколько всё плохо (или хорошо) более наглядно.\n",
    "\n",
    "### Матрица ошибок для случайного леса"
   ]
  },
  {
   "cell_type": "code",
   "execution_count": 15,
   "metadata": {},
   "outputs": [
    {
     "name": "stdout",
     "output_type": "stream",
     "text": [
      "Соотношение классов:\n",
      "0    1593\n",
      "1     407\n",
      "Name: Exited, dtype: int64 \n",
      "\n",
      "Матрица ошибок:\n",
      "[[1549   44]\n",
      " [ 230  177]]\n"
     ]
    }
   ],
   "source": [
    "from sklearn.metrics import confusion_matrix\n",
    "\n",
    "#обучаем модель с выбранными параметрами\n",
    "model = RandomForestClassifier(random_state=12345, max_depth=best_depth, n_estimators=best_estimators)\n",
    "model.fit(features_train, target_train)\n",
    "predicted_valid = model.predict(features_valid)\n",
    "\n",
    "print('Соотношение классов:')\n",
    "print(target_valid.value_counts(), '\\n')\n",
    "print('Матрица ошибок:')\n",
    "print(confusion_matrix(target_valid, predicted_valid))"
   ]
  },
  {
   "cell_type": "markdown",
   "metadata": {},
   "source": [
    "А вот и причина такого низкого значения f1-меры: в отличие от объектов отрицательного класса, 97,3% которых предсказывается моделью верно, точность предсказаний значений положительного класса всего около 43%. Теперь мы видим чёткую проблему, которую порождает дисбаланс и попытаемся её решить."
   ]
  },
  {
   "cell_type": "markdown",
   "metadata": {},
   "source": [
    "## Борьба с дисбалансом\n",
    "\n",
    "Прежде чем применять вышеописанные способы, поработаем с весами классов. Как известно, каждый класс имеет свой вес и в такой ситуации, где объектов одного класса в несколько раз больше, чем другого, он имеет важное значениие. Для того, чтобы сбалансировать веса классов, применим атрибут class_weight со значением 'balanced' в выбранной нами модели и посмотрим изменения в точности и значении f1-меры."
   ]
  },
  {
   "cell_type": "code",
   "execution_count": 16,
   "metadata": {},
   "outputs": [
    {
     "name": "stdout",
     "output_type": "stream",
     "text": [
      "--Обучение на модели со сбалансированными классами--\n",
      "Точность случайного леса: 0.8555\n",
      "Значение f1-меры для случайного леса: 0.5641025641025641\n",
      "--Параметры для сбалансированной модели--\n",
      "Лучшая глубина: 10\n",
      "Лучшее количество деревьев: 90\n"
     ]
    }
   ],
   "source": [
    "#определяем переменные для лучших параметров\n",
    "best_score = 0\n",
    "best_f1 = 0\n",
    "best_depth = 0\n",
    "best_estimators = 0\n",
    "\n",
    "#определяем оптимальные параметры модели в цикле\n",
    "for estimators in range(10, 101, 10):\n",
    "    for depth in range(1, 16):\n",
    "        model = RandomForestClassifier(random_state=12345, max_depth=depth, n_estimators=estimators, class_weight='balanced')\n",
    "        model.fit(features_train, target_train)\n",
    "        predicted_valid = model.predict(features_valid)\n",
    "        f1 = f1_score(target_valid, predicted_valid)\n",
    "        score = model.score(features_valid, target_valid)\n",
    "        \n",
    "        if (f1 > best_f1):\n",
    "            best_f1 = f1\n",
    "            best_depth = depth\n",
    "            best_score = score\n",
    "            best_estimators = estimators\n",
    "\n",
    "#подводим итоги\n",
    "print('--Обучение на модели со сбалансированными классами--')\n",
    "print('Точность случайного леса:', score)\n",
    "print('Значение f1-меры для случайного леса:', f1)\n",
    "print('--Параметры для сбалансированной модели--')\n",
    "print('Лучшая глубина:', best_depth)\n",
    "print('Лучшее количество деревьев:', best_estimators)"
   ]
  },
  {
   "cell_type": "markdown",
   "metadata": {},
   "source": [
    "Точность и f1 немного выросли. Значительный прогресс для добавления всего одного атрибута!\n",
    "\n",
    "### Уменьшение выборки\n",
    "\n",
    "Первый способ, который был предложен выше - это уменьшение выборки. Он предполагает удаление объектов превосходящего класса до того момента, пока их соотношение не будет примерно равным 1:1. Происходит это в несколько шагов:\n",
    "\n",
    "1. Разделяем обучающую выборку на объекты обоих классов\n",
    "2. Удаляем случайное количество объектов превосходящего класса\n",
    "3. Создаём новые выборку и перемешиваем данные в них\n",
    "\n",
    "Теперь выполним все вышеописанные шаги с нашими данными и обучим на результате нашу модель\n",
    "\n",
    "#### Процесс уменьшения\n",
    "\n",
    "Напишем функцию  'downsample' для уменьшения выборки с использованием методов 'shuffle' и 'sample'. Они будут нужны для перемешивания данных и получения выборки определённого соотношения соответственно. Значение атрибута frac в функции shuffle выберем примерно равным 391/1609 - соотношение классов в исходной обучающей выборке."
   ]
  },
  {
   "cell_type": "code",
   "execution_count": 17,
   "metadata": {},
   "outputs": [
    {
     "name": "stdout",
     "output_type": "stream",
     "text": [
      "(6000, 15)\n",
      "(2384, 15)\n"
     ]
    },
    {
     "data": {
      "text/plain": [
       "1    1223\n",
       "0    1161\n",
       "Name: Exited, dtype: int64"
      ]
     },
     "execution_count": 17,
     "metadata": {},
     "output_type": "execute_result"
    }
   ],
   "source": [
    "#импортируем функцию перемешивания\n",
    "from sklearn.utils import shuffle\n",
    "\n",
    "#создаём функцию для уменьшения выборки\n",
    "def downsample(features, target, fraction):\n",
    "    \n",
    "    #разбиваем на объекты разных классов\n",
    "    features_zeros = features[target == 0]\n",
    "    features_ones = features[target == 1]\n",
    "    target_zeros = target[target == 0]\n",
    "    target_ones = target[target == 1]\n",
    "    \n",
    "    #объединяем изменённые признаки и целевые признаки\n",
    "    features_downsampled = pd.concat(\n",
    "        [features_zeros.sample(frac=fraction, random_state=12345)] + [features_ones])\n",
    "    target_downsampled = pd.concat(\n",
    "        [target_zeros.sample(frac=fraction, random_state=12345)] + [target_ones])\n",
    "    \n",
    "    #перемешиваем данные в обучающей выборке\n",
    "    features_downsampled, target_downsampled = shuffle(\n",
    "        features_downsampled, target_downsampled, random_state=12345)\n",
    "    \n",
    "    #возвращаем результат\n",
    "    return features_downsampled, target_downsampled\n",
    "\n",
    "#выполняем функцию и получаем изменённую обучающую выборку\n",
    "features_downsampled, target_downsampled = downsample(features_train, target_train, 0.243)\n",
    "\n",
    "print(features_train.shape)\n",
    "print(features_downsampled.shape)\n",
    "target_downsampled.value_counts()"
   ]
  },
  {
   "cell_type": "markdown",
   "metadata": {},
   "source": [
    "Обучающая выборка уменьшилась в 2.5 раза, а количество классов теперь примерно одинаковое.\n",
    "\n",
    "#### Результативность работы"
   ]
  },
  {
   "cell_type": "code",
   "execution_count": 18,
   "metadata": {},
   "outputs": [
    {
     "name": "stdout",
     "output_type": "stream",
     "text": [
      "--На модели, обученной на уменьшенной выборке--\n",
      "Точность случайного леса: 0.792\n",
      "Значение f1-меры случайного леса: 0.605313092979127\n"
     ]
    }
   ],
   "source": [
    "#обучаем выбранную модель, добавив атрибут class_weight с уменьшенной выборкой\n",
    "model = RandomForestClassifier(random_state=12345, max_depth=best_depth, n_estimators=best_estimators)\n",
    "model.fit(features_downsampled, target_downsampled)\n",
    "predicted_valid = model.predict(features_valid)\n",
    "\n",
    "#получаем результаты метрик\n",
    "f1 = f1_score(target_valid, predicted_valid)\n",
    "score = model.score(features_valid, target_valid)\n",
    "\n",
    "#подводим итоги\n",
    "print('--На модели, обученной на уменьшенной выборке--')\n",
    "print('Точность случайного леса:', score)\n",
    "print('Значение f1-меры случайного леса:', f1)"
   ]
  },
  {
   "cell_type": "markdown",
   "metadata": {},
   "source": [
    "Точность значительно упала, но f1 выросла на целых 4 процента! Хороший результат. Стоит отметить, что такое падение точности связано с тем, что модель начала предсказывать более честно.\n",
    "\n",
    "### Увеличение выборки \n",
    "\n",
    "Изменение выборки в меньшую сторону нам помогло, стоит попробовать и увеличение. Этот метод заключается в увеличении количества объектов меньшего класса. Остальные шаги похожи на предыдущий метод.\n",
    "\n",
    "#### Процесс увеличения\n",
    "\n",
    "Как и в прошлом методе, напишем функцию, но теперь результатом её работы будет увеличение выборки. Соотношение классов в итоге тоже будет примерно 1:1."
   ]
  },
  {
   "cell_type": "code",
   "execution_count": 19,
   "metadata": {},
   "outputs": [
    {
     "name": "stdout",
     "output_type": "stream",
     "text": [
      "(6000, 15)\n",
      "(9669, 15)\n"
     ]
    },
    {
     "data": {
      "text/plain": [
       "1    4892\n",
       "0    4777\n",
       "Name: Exited, dtype: int64"
      ]
     },
     "execution_count": 19,
     "metadata": {},
     "output_type": "execute_result"
    }
   ],
   "source": [
    "#создаём функцию для увеличения выборки\n",
    "def upsample(features, target, repeat):\n",
    "    #разбиваем на объекты разных классов\n",
    "    features_zeros = features[target == 0]\n",
    "    features_ones = features[target == 1]\n",
    "    target_zeros = target[target == 0]\n",
    "    target_ones = target[target == 1]\n",
    "    \n",
    "    #объединяем изменённые признаки и целевые признаки\n",
    "    features_upsampled = pd.concat([features_zeros] + [features_ones] * repeat)\n",
    "    target_upsampled = pd.concat([target_zeros] + [target_ones] * repeat)\n",
    "    \n",
    "    #перемешиваем данные в выборках\n",
    "    features_upsampled, target_upsampled = shuffle(\n",
    "        features_upsampled, target_upsampled, random_state=12345)\n",
    "    \n",
    "    #возвращаем результат\n",
    "    return features_upsampled, target_upsampled\n",
    "\n",
    "#выполняем функцию и получаем изменённую обучающую выборку\n",
    "features_upsampled, target_upsampled = upsample(features_train, target_train, 4)\n",
    "\n",
    "print(features_train.shape)\n",
    "print(features_upsampled.shape)\n",
    "\n",
    "target_upsampled.value_counts()"
   ]
  },
  {
   "cell_type": "markdown",
   "metadata": {},
   "source": [
    "Выборка увеличилась, а соотношение классов опять примерно равно 1:1. Посмотрим, что из этого выйдет.\n",
    "\n",
    "#### Результативность работы"
   ]
  },
  {
   "cell_type": "code",
   "execution_count": 20,
   "metadata": {},
   "outputs": [
    {
     "name": "stdout",
     "output_type": "stream",
     "text": [
      "--На модели, обученной на уменьшенной выборке--\n",
      "Точность случайного леса: 0.832\n",
      "Значение f1-меры случайного леса: 0.6339869281045752\n"
     ]
    }
   ],
   "source": [
    "#обучаем выбранную модель с увеличенной выборкой\n",
    "model = RandomForestClassifier(random_state=12345, max_depth=best_depth, n_estimators=best_estimators)\n",
    "model.fit(features_upsampled, target_upsampled)\n",
    "predicted_valid = model.predict(features_valid)\n",
    "\n",
    "#получаем результаты метрик\n",
    "f1 = f1_score(target_valid, predicted_valid)\n",
    "score = model.score(features_valid, target_valid)\n",
    "\n",
    "#подводим итоги\n",
    "print('--На модели, обученной на уменьшенной выборке--')\n",
    "print('Точность случайного леса:', score)\n",
    "print('Значение f1-меры случайного леса:', f1)"
   ]
  },
  {
   "cell_type": "markdown",
   "metadata": {},
   "source": [
    "Точность упала не так сильно, как в прошлый раз, а f1-мера выросла ещё сильнее. Очень хорошо!\n",
    "\n",
    "### Изменение порога классификации\n",
    "\n",
    "Теперь перейдём к последнему методу - изменению порога классификации. Он заключается в передвижении порога классификации в сторону преобладающего класса. Это поменяет вероятность классов в нужную нам сторону."
   ]
  },
  {
   "cell_type": "code",
   "execution_count": 21,
   "metadata": {},
   "outputs": [
    {
     "name": "stdout",
     "output_type": "stream",
     "text": [
      "Порог = 0.00 | Точность = 0.203, f1-мера = 0.338\n",
      "Порог = 0.02 | Точность = 0.214, f1-мера = 0.341\n",
      "Порог = 0.04 | Точность = 0.303, f1-мера = 0.368\n",
      "Порог = 0.06 | Точность = 0.387, f1-мера = 0.395\n",
      "Порог = 0.08 | Точность = 0.479, f1-мера = 0.430\n",
      "Порог = 0.10 | Точность = 0.567, f1-мера = 0.470\n",
      "Порог = 0.12 | Точность = 0.627, f1-мера = 0.500\n",
      "Порог = 0.14 | Точность = 0.676, f1-мера = 0.530\n",
      "Порог = 0.16 | Точность = 0.717, f1-мера = 0.553\n",
      "Порог = 0.18 | Точность = 0.752, f1-мера = 0.576\n",
      "Порог = 0.20 | Точность = 0.774, f1-мера = 0.587\n",
      "Порог = 0.22 | Точность = 0.803, f1-мера = 0.612\n",
      "Порог = 0.24 | Точность = 0.822, f1-мера = 0.623\n",
      "Порог = 0.26 | Точность = 0.835, f1-мера = 0.632\n",
      "Порог = 0.28 | Точность = 0.842, f1-мера = 0.632\n",
      "Порог = 0.30 | Точность = 0.851, f1-мера = 0.634\n",
      "Порог = 0.32 | Точность = 0.856, f1-мера = 0.630\n",
      "Порог = 0.34 | Точность = 0.861, f1-мера = 0.626\n",
      "Порог = 0.36 | Точность = 0.863, f1-мера = 0.615\n",
      "Порог = 0.38 | Точность = 0.867, f1-мера = 0.612\n",
      "Порог = 0.40 | Точность = 0.866, f1-мера = 0.594\n",
      "Порог = 0.42 | Точность = 0.862, f1-мера = 0.570\n",
      "Порог = 0.44 | Точность = 0.864, f1-мера = 0.563\n",
      "Порог = 0.46 | Точность = 0.861, f1-мера = 0.546\n",
      "Порог = 0.48 | Точность = 0.855, f1-мера = 0.513\n",
      "Порог = 0.50 | Точность = 0.856, f1-мера = 0.503\n",
      "Порог = 0.52 | Точность = 0.855, f1-мера = 0.495\n",
      "Порог = 0.54 | Точность = 0.854, f1-мера = 0.487\n",
      "Порог = 0.56 | Точность = 0.852, f1-мера = 0.476\n",
      "Порог = 0.58 | Точность = 0.852, f1-мера = 0.469\n",
      "Порог = 0.60 | Точность = 0.850, f1-мера = 0.455\n",
      "Порог = 0.62 | Точность = 0.849, f1-мера = 0.442\n",
      "Порог = 0.64 | Точность = 0.847, f1-мера = 0.424\n",
      "Порог = 0.66 | Точность = 0.845, f1-мера = 0.408\n",
      "Порог = 0.68 | Точность = 0.842, f1-мера = 0.388\n",
      "Порог = 0.70 | Точность = 0.840, f1-мера = 0.367\n"
     ]
    }
   ],
   "source": [
    "#импорт accuracy_score, чтобы точность корректнее отображалась\n",
    "from sklearn.metrics import accuracy_score\n",
    "\n",
    "#обучаем выбранную модель с уменьшенной выборкой\n",
    "model = RandomForestClassifier(random_state=12345, max_depth=best_depth, n_estimators=best_estimators)\n",
    "model.fit(features_train, target_train)\n",
    "\n",
    "#вместо обычных предсказаний класса получим вероятность принадлежности объекта к классу\n",
    "probabilities_valid = model.predict_proba(features_valid)\n",
    "probabilities_one_valid = probabilities_valid[:, 1]\n",
    "\n",
    "best_f1 = 0\n",
    "best_threshold = 0\n",
    "\n",
    "#будем менять порог и искать его оптимальное значение\n",
    "for threshold in np.arange(0, 0.71, 0.02):\n",
    "    predicted_valid = probabilities_one_valid > threshold\n",
    "    score = accuracy_score(target_valid, predicted_valid)\n",
    "    f1 = f1_score(target_valid, predicted_valid)\n",
    "    if f1 > best_f1:\n",
    "        best_f1 = f1\n",
    "        best_threshold = threshold\n",
    "\n",
    "    print(\"Порог = {:.2f} | Точность = {:.3f}, f1-мера = {:.3f}\".format(\n",
    "        threshold, score, f1))"
   ]
  },
  {
   "cell_type": "markdown",
   "metadata": {},
   "source": [
    "Ого, при пороге в 0.3 значение f1-меры равно 64.4 процентам! Точность также немного больше, чем при использовании других методов. Определённо остановимся на этом способе.\n",
    "\n",
    "<div class='alert ' style='background-color:wheat;'>Стоит отметить, что значения порога и f1 каждый раз меняются из-за рандомного заполнения столбца 'Tenure'. На мои результаты ориентироваться не стоит. </div>"
   ]
  },
  {
   "cell_type": "markdown",
   "metadata": {},
   "source": [
    "## Работа с важностью признаков\n",
    "\n",
    "В одном из прошлых пунктов мы изучили важность признаков. После того, как был исследован дисбаланс и определены оптимальные методы борьбы с ним, мы можем перейти к работе с важностью признаков.\n",
    "\n",
    "Создадим массив delete_feat, в котором будут храниться признаки, удаление которых спровоцировало рост значения f1-меры. После этого прогоним цикл по всем признакам с наименее важного до самого важного и будем изучать значение f1 после удаления каждого из них. Если f1 вырастает, то добавляем его в массив delete_feat и продолжаем удаление столбцов уже вместе с ним.\n",
    "\n",
    "Выбранный здесь метод борьбы с дисбалансом - увеличение выборки."
   ]
  },
  {
   "cell_type": "code",
   "execution_count": 22,
   "metadata": {},
   "outputs": [
    {
     "name": "stdout",
     "output_type": "stream",
     "text": [
      "Точность при удалении признака Geography_Spain: 0.6378504672897196\n",
      "Точность при удалении признака HasCrCard: 0.6333687566418703\n",
      "Точность при удалении признака CreditScore_category: 0.63125\n",
      "Точность при удалении признака Gender_Male: 0.6310160427807487\n",
      "Точность при удалении признака EstimatedSalary_category: 0.6267379679144385\n",
      "Точность при удалении признака Geography_Germany: 0.6123778501628666\n",
      "Точность при удалении признака Balance_category: 0.6291891891891892\n",
      "Точность при удалении признака IsActiveMember: 0.6115537848605578\n",
      "Точность при удалении признака Age_category: 0.6409356725146199\n",
      "Точность при удалении признака Tenure: 0.6289978678038379\n",
      "Точность при удалении признака Balance: 0.6240520043336945\n",
      "Точность при удалении признака EstimatedSalary: 0.6307692307692307\n",
      "Точность при удалении признака CreditScore: 0.6294736842105263\n",
      "Точность при удалении признака NumOfProducts: 0.5647517039922103\n",
      "Точность при удалении признака Age: 0.6037321624588363\n",
      "\n",
      " -----Результаты-----\n",
      "Признаки, удаление которых повысит значение f1-меры модели: ['Geography_Spain', 'Age_category']\n",
      "Лучшая f1 при удалении признаков: 0.6409356725146199\n"
     ]
    }
   ],
   "source": [
    "delete_feat = []\n",
    "best_f1_imp = 0\n",
    "itter = 0\n",
    "\n",
    "for feat in importances.sort_values(by='Gini-Importance', ascending=True)['Features'].tolist():\n",
    "    \n",
    "    if (itter == 0):\n",
    "        features_train_imp = features_upsampled.drop(columns=[feat])\n",
    "        features_valid_imp = features_valid.drop(columns=[feat])\n",
    "    else:\n",
    "        features_train_imp = features_upsampled.drop(columns=[delete_feat])\n",
    "        features_valid_imp = features_valid.drop(columns=[delete_feat])\n",
    "    \n",
    "    best_f1_feat = 0\n",
    "    \n",
    "    for estimators in range(10, 101, 10):\n",
    "        for depth in range(1, 16):\n",
    "            \n",
    "            model = RandomForestClassifier(random_state=12345, max_depth=depth, n_estimators=estimators)\n",
    "            model.fit(features_train_imp, target_upsampled)\n",
    "            predicted_valid = model.predict(features_valid_imp)\n",
    "            \n",
    "            f1 = f1_score(target_valid, predicted_valid)\n",
    "            score = model.score(features_train_imp, target_upsampled)\n",
    "        \n",
    "            if (f1 > best_f1_feat):\n",
    "                best_f1_feat = f1\n",
    "                best_depth = depth\n",
    "                best_score = score\n",
    "                best_estimators = estimators\n",
    "    \n",
    "    if best_f1_feat > best_f1:\n",
    "        best_f1_imp = best_f1_feat\n",
    "        delete_feat.append(feat)\n",
    "        \n",
    "    print(f'Точность при удалении признака {feat}:', best_f1_feat)\n",
    "    \n",
    "print('\\n', '-----Результаты-----')\n",
    "print('Признаки, удаление которых повысит значение f1-меры модели:', delete_feat)\n",
    "print('Лучшая f1 при удалении признаков:', best_f1_imp)"
   ]
  },
  {
   "cell_type": "markdown",
   "metadata": {},
   "source": [
    "Лучшая f1 целых 63 процента. Прекрасный результат! Проверим на тестовых данных."
   ]
  },
  {
   "cell_type": "markdown",
   "metadata": {},
   "source": [
    "## Тестирование модели"
   ]
  },
  {
   "cell_type": "markdown",
   "metadata": {},
   "source": [
    "Теперь когда мы определили оптимальную модель, её параметры, определили способ борьбы с дисбалансом и отсеяли ненужные признаки, можно начать тест модели. Но перед этим стоит обучить нашу модель ещё и на валидационной выборке. Чем больше обучающих данных, тем лучше."
   ]
  },
  {
   "cell_type": "code",
   "execution_count": 23,
   "metadata": {},
   "outputs": [
    {
     "name": "stdout",
     "output_type": "stream",
     "text": [
      "Порог = 0.30 | Точность = 0.861, f1-мера = 0.650\n"
     ]
    }
   ],
   "source": [
    "#преобразовываем обучающую выборку, добавляя в неё валидационную\n",
    "features_train = pd.concat([features_train, features_valid], ignore_index=True)\n",
    "target_train = pd.concat([target_train, target_valid], ignore_index=True)\n",
    "\n",
    "#обучаем выбранную модель\n",
    "best_model = RandomForestClassifier(random_state=12345, max_depth=best_depth, \n",
    "                                    n_estimators=best_estimators)\n",
    "best_model.fit(features_train.drop(columns=delete_feat), target_train)\n",
    "    \n",
    "#вместо обычных предсказаний класса получим вероятность принадлежности объекта к классу\n",
    "probabilities_test = best_model.predict_proba(features_test.drop(columns=delete_feat))\n",
    "probabilities_one_test = probabilities_test[:, 1] \n",
    "\n",
    "#проверяем вероятности принадлежности объекта к классу по значению порога и смотрим значения метрик\n",
    "predicted_test = probabilities_one_test > best_threshold\n",
    "score = best_model.score(features_test.drop(columns=delete_feat), target_test)\n",
    "f1 = f1_score(target_test, predicted_test)\n",
    "\n",
    "print(\"Порог = {:.2f} | Точность = {:.3f}, f1-мера = {:.3f}\".format(\n",
    "        best_threshold, score, f1))"
   ]
  },
  {
   "cell_type": "markdown",
   "metadata": {},
   "source": [
    "Видим, что при значении порога 0.28 мы получаем значение f1-меры равное 65.4 процентам (может изменяться, как я упоминал выше). Прекрасный результат, модель готова к предсказаниям!"
   ]
  },
  {
   "cell_type": "markdown",
   "metadata": {},
   "source": [
    "\n",
    "\n",
    "## Исследование AUC-ROC\n",
    "\n",
    "Теперь исследуем ROC-кривую. Нанесём на неё случайную модель и нашу. После этого сравним графики и посчитаем AUC-ROC, чтобы иметь какое-то числовое представление."
   ]
  },
  {
   "cell_type": "code",
   "execution_count": 25,
   "metadata": {},
   "outputs": [
    {
     "data": {
      "image/png": "[encoded data removed]",
      "text/plain": [
       "<Figure size 432x288 with 1 Axes>"
      ]
     },
     "metadata": {},
     "output_type": "display_data"
    },
    {
     "name": "stdout",
     "output_type": "stream",
     "text": [
      "AUC-ROC равна 0.8725674827369742\n"
     ]
    }
   ],
   "source": [
    "#импортируем нужные функции и библиотеки\n",
    "from sklearn.metrics import roc_curve\n",
    "import matplotlib.pyplot as plt\n",
    "from sklearn.metrics import roc_auc_score \n",
    "\n",
    "#получаем fpr и tpr для того, чтобы построить график\n",
    "fpr, tpr, thresholds = roc_curve(target_test, probabilities_one_test)\n",
    "\n",
    "plt.figure()\n",
    "\n",
    "#ROC-кривая случайной модели (выглядит как прямая)\n",
    "plt.plot(fpr, tpr)\n",
    "plt.plot([0, 1], [0, 1], linestyle='--')\n",
    "\n",
    "#применим функции plt.xlim() и plt.ylim(), чтобы установить границы осей от 0 до 1\n",
    "plt.xlim([0.0, 1.0])\n",
    "plt.ylim([0.0, 1.0])\n",
    "\n",
    "#применим функции plt.xlabel() и plt.ylabel(), чтобы подписать оси \"False Positive Rate\" и \"True Positive Rate\"\n",
    "plt.xlabel('False Positive Rate')\n",
    "plt.ylabel('True Positive Rate')\n",
    "\n",
    "#добавим к графику заголовок \"ROC-кривая\" функцией plt.title()\n",
    "plt.title('ROC-кривая')\n",
    "\n",
    "plt.show()\n",
    "\n",
    "print('AUC-ROC равна', roc_auc_score(target_test, probabilities_one_test))"
   ]
  },
  {
   "cell_type": "markdown",
   "metadata": {},
   "source": [
    "По графику видим, что модель предсказывает намного лучше случайной. Также об этом говорит высокое значение AUC-ROC."
   ]
  },
  {
   "cell_type": "markdown",
   "metadata": {},
   "source": [
    "## Общий вывод\n",
    "\n",
    "Мы получили набор данных, содержащий в себе информацию о клиентах банка. Признаками были различные данные о клиентах и их деятельности. Целевым признаком ялвляся факт покидания клиентом банка.\n",
    "\n",
    "Мы подготовили данные: предобработали исходный датасет, масштабировали количественные признаки и провели прямое кодирование над категориальными. После этого приступили к исследованию модели.\n",
    "\n",
    "Перед исследованием модели мы выбрали оптимальную модель - ей оказался случайный лес. Мы подобрали оптимальные параметры для него и начали изучать дисбаланс классов. Изучение показало: малое количество объектов положительного класса привело к тому, что модель около половины из них предсказывало неверно.\n",
    "\n",
    "Для борьбы с дисбалансом мы использовали несколько методов: балансирование классов, уменьшение выборки, увеличение выборки и смещение порога классификации. Самым результативным оказалось смещение порога классификации.\n",
    "\n",
    "После выбора оптимальной модели, её параметров и метода борьбы с дисбалансом, мы приступили к тестированию модели на тестовой выборке. Перед этим мы обучили её ещё раз, но уже на двух выборках (обучающей и валидационной). На тестовой выборке модель показала хороший результат, превышающий минимальный порог в 0.59. \n",
    "\n",
    "В качестве окончательного подведения итогов, мы исследовали ROC-кривую и метрику AUC-ROC. Значение метрики было очень высоким, что ещё раз подтвердило качество работы модели."
   ]
  }
 ],
 "metadata": {
  "ExecuteTimeLog": [
   {
    "duration": 907,
    "start_time": "2021-07-09T20:24:02.879Z"
   },
   {
    "duration": 27,
    "start_time": "2021-07-09T20:24:03.788Z"
   },
   {
    "duration": 12,
    "start_time": "2021-07-09T20:24:03.818Z"
   },
   {
    "duration": 751,
    "start_time": "2021-07-09T20:24:03.833Z"
   },
   {
    "duration": 643,
    "start_time": "2021-07-09T20:24:04.587Z"
   },
   {
    "duration": 73,
    "start_time": "2021-07-09T20:24:05.233Z"
   },
   {
    "duration": 35,
    "start_time": "2021-07-09T20:24:05.308Z"
   },
   {
    "duration": 8,
    "start_time": "2021-07-09T20:24:05.346Z"
   },
   {
    "duration": 147,
    "start_time": "2021-07-09T20:24:05.358Z"
   },
   {
    "duration": 62033,
    "start_time": "2021-07-09T20:24:05.508Z"
   },
   {
    "duration": 396,
    "start_time": "2021-07-09T20:25:07.544Z"
   },
   {
    "duration": 379,
    "start_time": "2021-07-09T20:25:07.943Z"
   },
   {
    "duration": 380,
    "start_time": "2021-07-09T20:25:08.325Z"
   },
   {
    "duration": 25,
    "start_time": "2021-07-09T20:25:08.708Z"
   },
   {
    "duration": 744,
    "start_time": "2021-07-09T20:25:08.735Z"
   },
   {
    "duration": 32,
    "start_time": "2021-07-09T20:25:09.481Z"
   },
   {
    "duration": 1843,
    "start_time": "2021-07-09T20:25:09.515Z"
   },
   {
    "duration": 1067,
    "start_time": "2021-07-09T20:25:11.360Z"
   },
   {
    "duration": 2941,
    "start_time": "2021-07-09T20:25:12.430Z"
   },
   {
    "duration": 3367,
    "start_time": "2021-07-09T20:25:15.374Z"
   },
   {
    "duration": 444,
    "start_time": "2021-07-09T20:25:18.743Z"
   },
   {
    "duration": 25,
    "start_time": "2021-07-09T20:36:20.373Z"
   },
   {
    "duration": 480,
    "start_time": "2021-07-09T20:45:48.456Z"
   },
   {
    "duration": 919,
    "start_time": "2021-07-10T14:53:01.683Z"
   },
   {
    "duration": 26,
    "start_time": "2021-07-10T14:53:02.605Z"
   },
   {
    "duration": 411,
    "start_time": "2021-07-10T14:53:59.921Z"
   },
   {
    "duration": 1454,
    "start_time": "2021-07-10T14:56:48.525Z"
   },
   {
    "duration": 580,
    "start_time": "2021-07-10T14:57:19.517Z"
   },
   {
    "duration": 552,
    "start_time": "2021-07-10T14:57:28.279Z"
   },
   {
    "duration": 366,
    "start_time": "2021-07-10T15:04:54.487Z"
   },
   {
    "duration": 361,
    "start_time": "2021-07-10T15:04:59.845Z"
   },
   {
    "duration": 660,
    "start_time": "2021-07-10T15:05:04.588Z"
   },
   {
    "duration": 7259,
    "start_time": "2021-07-10T15:05:53.171Z"
   },
   {
    "duration": 357,
    "start_time": "2021-07-10T15:06:02.543Z"
   },
   {
    "duration": 58,
    "start_time": "2021-07-10T15:06:16.565Z"
   },
   {
    "duration": 37,
    "start_time": "2021-07-10T15:06:16.626Z"
   },
   {
    "duration": 3397,
    "start_time": "2021-07-10T15:06:16.666Z"
   },
   {
    "duration": 309,
    "start_time": "2021-07-10T15:06:20.066Z"
   },
   {
    "duration": 299,
    "start_time": "2021-07-10T15:06:53.006Z"
   },
   {
    "duration": 302,
    "start_time": "2021-07-10T15:07:10.596Z"
   },
   {
    "duration": 628,
    "start_time": "2021-07-10T15:07:19.878Z"
   },
   {
    "duration": 30,
    "start_time": "2021-07-10T15:07:49.414Z"
   },
   {
    "duration": 598,
    "start_time": "2021-07-10T15:08:01.768Z"
   },
   {
    "duration": 1789,
    "start_time": "2021-07-10T15:12:37.306Z"
   },
   {
    "duration": 436,
    "start_time": "2021-07-10T15:12:52.042Z"
   },
   {
    "duration": 447,
    "start_time": "2021-07-10T15:12:58.289Z"
   },
   {
    "duration": 318,
    "start_time": "2021-07-10T15:13:03.956Z"
   },
   {
    "duration": 294,
    "start_time": "2021-07-10T15:13:10.668Z"
   },
   {
    "duration": 378,
    "start_time": "2021-07-10T15:13:15.200Z"
   },
   {
    "duration": 304,
    "start_time": "2021-07-10T15:13:19.758Z"
   },
   {
    "duration": 309,
    "start_time": "2021-07-10T15:13:24.858Z"
   },
   {
    "duration": 953,
    "start_time": "2021-07-10T15:14:20.573Z"
   },
   {
    "duration": 53,
    "start_time": "2021-07-10T15:14:21.529Z"
   },
   {
    "duration": 632,
    "start_time": "2021-07-10T15:14:21.590Z"
   },
   {
    "duration": 496,
    "start_time": "2021-07-10T15:14:28.996Z"
   },
   {
    "duration": 330,
    "start_time": "2021-07-10T15:14:33.747Z"
   },
   {
    "duration": 370,
    "start_time": "2021-07-10T15:14:36.319Z"
   },
   {
    "duration": 308,
    "start_time": "2021-07-10T15:14:46.533Z"
   },
   {
    "duration": 827,
    "start_time": "2021-07-10T15:15:10.022Z"
   },
   {
    "duration": 630,
    "start_time": "2021-07-10T15:15:32.386Z"
   },
   {
    "duration": 292,
    "start_time": "2021-07-10T15:15:42.291Z"
   },
   {
    "duration": 529,
    "start_time": "2021-07-10T15:15:57.170Z"
   },
   {
    "duration": 8,
    "start_time": "2021-07-10T15:16:02.295Z"
   },
   {
    "duration": 384,
    "start_time": "2021-07-10T15:16:10.709Z"
   },
   {
    "duration": 342,
    "start_time": "2021-07-10T15:16:20.683Z"
   },
   {
    "duration": 269,
    "start_time": "2021-07-10T15:17:33.647Z"
   },
   {
    "duration": 98,
    "start_time": "2021-07-10T15:18:01.518Z"
   },
   {
    "duration": 101,
    "start_time": "2021-07-10T15:18:11.978Z"
   },
   {
    "duration": 105,
    "start_time": "2021-07-10T15:18:14.981Z"
   },
   {
    "duration": 261,
    "start_time": "2021-07-10T15:18:22.112Z"
   },
   {
    "duration": 267,
    "start_time": "2021-07-10T15:18:28.353Z"
   },
   {
    "duration": 8,
    "start_time": "2021-07-10T15:18:39.918Z"
   },
   {
    "duration": 317,
    "start_time": "2021-07-10T15:18:51.399Z"
   },
   {
    "duration": 369,
    "start_time": "2021-07-10T15:19:00.768Z"
   },
   {
    "duration": 8,
    "start_time": "2021-07-10T15:19:58.185Z"
   },
   {
    "duration": 9,
    "start_time": "2021-07-10T15:20:03.932Z"
   },
   {
    "duration": 9,
    "start_time": "2021-07-10T15:20:06.719Z"
   },
   {
    "duration": 9,
    "start_time": "2021-07-10T15:20:57.112Z"
   },
   {
    "duration": 355,
    "start_time": "2021-07-10T15:21:01.093Z"
   },
   {
    "duration": 9,
    "start_time": "2021-07-10T15:21:06.825Z"
   },
   {
    "duration": 310,
    "start_time": "2021-07-10T15:21:10.344Z"
   },
   {
    "duration": 9,
    "start_time": "2021-07-10T15:21:15.503Z"
   },
   {
    "duration": 787,
    "start_time": "2021-07-10T15:22:14.865Z"
   },
   {
    "duration": 10,
    "start_time": "2021-07-10T15:23:14.997Z"
   },
   {
    "duration": 18,
    "start_time": "2021-07-10T15:23:40.023Z"
   },
   {
    "duration": 11,
    "start_time": "2021-07-10T15:24:40.690Z"
   },
   {
    "duration": 11,
    "start_time": "2021-07-10T15:24:50.331Z"
   },
   {
    "duration": 8,
    "start_time": "2021-07-10T15:26:22.382Z"
   },
   {
    "duration": 30,
    "start_time": "2021-07-10T15:26:25.610Z"
   },
   {
    "duration": 11,
    "start_time": "2021-07-10T15:26:34.985Z"
   },
   {
    "duration": 251,
    "start_time": "2021-07-10T15:26:41.686Z"
   },
   {
    "duration": 266,
    "start_time": "2021-07-10T15:26:46.044Z"
   },
   {
    "duration": 364,
    "start_time": "2021-07-10T15:40:16.424Z"
   },
   {
    "duration": 288,
    "start_time": "2021-07-10T15:40:40.739Z"
   },
   {
    "duration": 275,
    "start_time": "2021-07-10T15:40:49.878Z"
   },
   {
    "duration": 322,
    "start_time": "2021-07-10T15:49:36.247Z"
   },
   {
    "duration": 412,
    "start_time": "2021-07-10T15:49:42.837Z"
   },
   {
    "duration": 311,
    "start_time": "2021-07-10T15:49:44.844Z"
   },
   {
    "duration": 879,
    "start_time": "2021-07-10T15:51:19.730Z"
   },
   {
    "duration": 54,
    "start_time": "2021-07-10T15:51:20.613Z"
   },
   {
    "duration": 590,
    "start_time": "2021-07-10T15:51:20.671Z"
   },
   {
    "duration": 11,
    "start_time": "2021-07-10T15:51:21.265Z"
   },
   {
    "duration": 12,
    "start_time": "2021-07-10T15:51:30.821Z"
   },
   {
    "duration": 10,
    "start_time": "2021-07-10T15:51:38.077Z"
   },
   {
    "duration": 11,
    "start_time": "2021-07-10T15:51:51.941Z"
   },
   {
    "duration": 9,
    "start_time": "2021-07-10T15:51:57.987Z"
   },
   {
    "duration": 404,
    "start_time": "2021-07-10T15:52:08.256Z"
   },
   {
    "duration": 289,
    "start_time": "2021-07-10T15:52:21.902Z"
   },
   {
    "duration": 8,
    "start_time": "2021-07-10T15:52:29.117Z"
   },
   {
    "duration": 7,
    "start_time": "2021-07-10T15:52:36.835Z"
   },
   {
    "duration": 305,
    "start_time": "2021-07-10T15:52:44.773Z"
   },
   {
    "duration": 311,
    "start_time": "2021-07-10T15:52:46.740Z"
   },
   {
    "duration": 13,
    "start_time": "2021-07-10T15:53:02.430Z"
   },
   {
    "duration": 14,
    "start_time": "2021-07-10T15:54:12.801Z"
   },
   {
    "duration": 319,
    "start_time": "2021-07-10T15:55:15.939Z"
   },
   {
    "duration": 276,
    "start_time": "2021-07-10T15:55:29.707Z"
   },
   {
    "duration": 283,
    "start_time": "2021-07-10T15:55:44.010Z"
   },
   {
    "duration": 338,
    "start_time": "2021-07-10T15:55:47.730Z"
   },
   {
    "duration": 11,
    "start_time": "2021-07-10T15:58:25.403Z"
   },
   {
    "duration": 284,
    "start_time": "2021-07-10T15:58:54.362Z"
   },
   {
    "duration": 271,
    "start_time": "2021-07-10T15:59:10.023Z"
   },
   {
    "duration": 10,
    "start_time": "2021-07-10T16:00:00.245Z"
   },
   {
    "duration": 889,
    "start_time": "2021-07-10T16:16:58.567Z"
   },
   {
    "duration": 59,
    "start_time": "2021-07-10T16:17:06.665Z"
   },
   {
    "duration": 44,
    "start_time": "2021-07-10T16:17:06.727Z"
   },
   {
    "duration": 301,
    "start_time": "2021-07-10T16:17:06.775Z"
   },
   {
    "duration": 383,
    "start_time": "2021-07-10T16:17:07.079Z"
   },
   {
    "duration": 279,
    "start_time": "2021-07-10T16:17:07.465Z"
   },
   {
    "duration": 18,
    "start_time": "2021-07-10T16:17:07.746Z"
   },
   {
    "duration": 765,
    "start_time": "2021-07-10T16:17:07.766Z"
   },
   {
    "duration": 73,
    "start_time": "2021-07-10T16:17:08.534Z"
   },
   {
    "duration": 32,
    "start_time": "2021-07-10T16:17:08.610Z"
   },
   {
    "duration": 339,
    "start_time": "2021-07-10T16:17:12.336Z"
   },
   {
    "duration": 297,
    "start_time": "2021-07-10T16:17:43.211Z"
   },
   {
    "duration": 297,
    "start_time": "2021-07-10T16:17:52.928Z"
   },
   {
    "duration": 347,
    "start_time": "2021-07-10T16:18:04.989Z"
   },
   {
    "duration": 353,
    "start_time": "2021-07-10T16:18:34.900Z"
   },
   {
    "duration": 56,
    "start_time": "2021-07-10T16:20:06.130Z"
   },
   {
    "duration": 28,
    "start_time": "2021-07-10T16:20:06.189Z"
   },
   {
    "duration": 312,
    "start_time": "2021-07-10T16:20:06.221Z"
   },
   {
    "duration": 395,
    "start_time": "2021-07-10T16:20:06.536Z"
   },
   {
    "duration": 416,
    "start_time": "2021-07-10T16:20:06.934Z"
   },
   {
    "duration": 18,
    "start_time": "2021-07-10T16:20:07.353Z"
   },
   {
    "duration": 1278,
    "start_time": "2021-07-10T16:20:07.374Z"
   },
   {
    "duration": 102,
    "start_time": "2021-07-10T16:20:08.664Z"
   },
   {
    "duration": 29,
    "start_time": "2021-07-10T16:20:08.770Z"
   },
   {
    "duration": 83,
    "start_time": "2021-07-10T16:20:12.039Z"
   },
   {
    "duration": 49,
    "start_time": "2021-07-10T16:20:22.328Z"
   },
   {
    "duration": 318,
    "start_time": "2021-07-10T16:21:38.907Z"
   },
   {
    "duration": 176,
    "start_time": "2021-07-10T16:21:39.052Z"
   },
   {
    "duration": 167,
    "start_time": "2021-07-10T16:21:39.062Z"
   },
   {
    "duration": 162,
    "start_time": "2021-07-10T16:21:39.069Z"
   },
   {
    "duration": 156,
    "start_time": "2021-07-10T16:21:39.076Z"
   },
   {
    "duration": 142,
    "start_time": "2021-07-10T16:21:39.092Z"
   },
   {
    "duration": 125,
    "start_time": "2021-07-10T16:21:39.110Z"
   },
   {
    "duration": 121,
    "start_time": "2021-07-10T16:21:39.115Z"
   },
   {
    "duration": 119,
    "start_time": "2021-07-10T16:21:39.119Z"
   },
   {
    "duration": 112,
    "start_time": "2021-07-10T16:21:39.127Z"
   },
   {
    "duration": 47,
    "start_time": "2021-07-10T16:22:34.321Z"
   },
   {
    "duration": 56,
    "start_time": "2021-07-10T16:23:15.123Z"
   },
   {
    "duration": 27,
    "start_time": "2021-07-10T16:23:15.182Z"
   },
   {
    "duration": 304,
    "start_time": "2021-07-10T16:23:15.212Z"
   },
   {
    "duration": 283,
    "start_time": "2021-07-10T16:23:15.519Z"
   },
   {
    "duration": 288,
    "start_time": "2021-07-10T16:23:15.805Z"
   },
   {
    "duration": 13,
    "start_time": "2021-07-10T16:23:16.096Z"
   },
   {
    "duration": 778,
    "start_time": "2021-07-10T16:23:16.112Z"
   },
   {
    "duration": 76,
    "start_time": "2021-07-10T16:23:16.894Z"
   },
   {
    "duration": 22,
    "start_time": "2021-07-10T16:23:16.972Z"
   },
   {
    "duration": 77,
    "start_time": "2021-07-10T16:23:16.997Z"
   },
   {
    "duration": 58,
    "start_time": "2021-07-10T16:23:50.336Z"
   },
   {
    "duration": 27,
    "start_time": "2021-07-10T16:23:50.397Z"
   },
   {
    "duration": 306,
    "start_time": "2021-07-10T16:23:50.427Z"
   },
   {
    "duration": 426,
    "start_time": "2021-07-10T16:23:50.736Z"
   },
   {
    "duration": 326,
    "start_time": "2021-07-10T16:23:51.165Z"
   },
   {
    "duration": 160,
    "start_time": "2021-07-10T16:23:51.335Z"
   },
   {
    "duration": 153,
    "start_time": "2021-07-10T16:23:51.344Z"
   },
   {
    "duration": 146,
    "start_time": "2021-07-10T16:23:51.353Z"
   },
   {
    "duration": 142,
    "start_time": "2021-07-10T16:23:51.360Z"
   },
   {
    "duration": 136,
    "start_time": "2021-07-10T16:23:51.368Z"
   },
   {
    "duration": 4046,
    "start_time": "2021-07-10T16:24:17.715Z"
   },
   {
    "duration": 78,
    "start_time": "2021-07-10T16:24:30.168Z"
   },
   {
    "duration": 45,
    "start_time": "2021-07-10T16:24:30.249Z"
   },
   {
    "duration": 433,
    "start_time": "2021-07-10T16:24:30.296Z"
   },
   {
    "duration": 331,
    "start_time": "2021-07-10T16:24:30.731Z"
   },
   {
    "duration": 307,
    "start_time": "2021-07-10T16:24:31.066Z"
   },
   {
    "duration": 272,
    "start_time": "2021-07-10T16:24:58.632Z"
   },
   {
    "duration": 277,
    "start_time": "2021-07-10T16:25:01.994Z"
   },
   {
    "duration": 58,
    "start_time": "2021-07-10T16:25:05.153Z"
   },
   {
    "duration": 27,
    "start_time": "2021-07-10T16:25:05.214Z"
   },
   {
    "duration": 301,
    "start_time": "2021-07-10T16:25:05.263Z"
   },
   {
    "duration": 291,
    "start_time": "2021-07-10T16:25:05.567Z"
   },
   {
    "duration": 310,
    "start_time": "2021-07-10T16:25:05.863Z"
   },
   {
    "duration": 300,
    "start_time": "2021-07-10T16:25:20.008Z"
   },
   {
    "duration": 58,
    "start_time": "2021-07-10T16:25:24.628Z"
   },
   {
    "duration": 35,
    "start_time": "2021-07-10T16:25:24.689Z"
   },
   {
    "duration": 340,
    "start_time": "2021-07-10T16:25:24.728Z"
   },
   {
    "duration": 299,
    "start_time": "2021-07-10T16:25:25.071Z"
   },
   {
    "duration": 301,
    "start_time": "2021-07-10T16:25:25.373Z"
   },
   {
    "duration": 56,
    "start_time": "2021-07-10T16:26:03.869Z"
   },
   {
    "duration": 26,
    "start_time": "2021-07-10T16:26:03.927Z"
   },
   {
    "duration": 292,
    "start_time": "2021-07-10T16:26:03.963Z"
   },
   {
    "duration": 381,
    "start_time": "2021-07-10T16:26:04.258Z"
   },
   {
    "duration": 291,
    "start_time": "2021-07-10T16:26:09.207Z"
   },
   {
    "duration": 358,
    "start_time": "2021-07-10T16:28:15.293Z"
   },
   {
    "duration": 59,
    "start_time": "2021-07-10T16:28:34.193Z"
   },
   {
    "duration": 33,
    "start_time": "2021-07-10T16:28:34.255Z"
   },
   {
    "duration": 299,
    "start_time": "2021-07-10T16:28:34.292Z"
   },
   {
    "duration": 299,
    "start_time": "2021-07-10T16:28:34.594Z"
   },
   {
    "duration": 305,
    "start_time": "2021-07-10T16:28:40.352Z"
   },
   {
    "duration": 290,
    "start_time": "2021-07-10T16:31:31.814Z"
   },
   {
    "duration": 60,
    "start_time": "2021-07-10T16:31:35.971Z"
   },
   {
    "duration": 37,
    "start_time": "2021-07-10T16:31:36.035Z"
   },
   {
    "duration": 310,
    "start_time": "2021-07-10T16:31:36.076Z"
   },
   {
    "duration": 297,
    "start_time": "2021-07-10T16:31:36.390Z"
   },
   {
    "duration": 1426,
    "start_time": "2021-07-10T16:31:38.231Z"
   },
   {
    "duration": 831,
    "start_time": "2021-07-10T16:32:16.531Z"
   },
   {
    "duration": 1471,
    "start_time": "2021-07-10T16:32:22.096Z"
   },
   {
    "duration": 1679,
    "start_time": "2021-07-10T16:36:05.657Z"
   },
   {
    "duration": 58,
    "start_time": "2021-07-10T16:36:10.435Z"
   },
   {
    "duration": 26,
    "start_time": "2021-07-10T16:36:10.495Z"
   },
   {
    "duration": 302,
    "start_time": "2021-07-10T16:36:10.525Z"
   },
   {
    "duration": 290,
    "start_time": "2021-07-10T16:36:10.830Z"
   },
   {
    "duration": 290,
    "start_time": "2021-07-10T16:36:12.540Z"
   },
   {
    "duration": 10,
    "start_time": "2021-07-10T16:36:25.914Z"
   },
   {
    "duration": 63,
    "start_time": "2021-07-10T16:36:56.076Z"
   },
   {
    "duration": 36,
    "start_time": "2021-07-10T16:36:56.142Z"
   },
   {
    "duration": 314,
    "start_time": "2021-07-10T16:36:56.181Z"
   },
   {
    "duration": 292,
    "start_time": "2021-07-10T16:36:56.498Z"
   },
   {
    "duration": 322,
    "start_time": "2021-07-10T16:36:56.792Z"
   },
   {
    "duration": 10,
    "start_time": "2021-07-10T16:36:57.117Z"
   },
   {
    "duration": 887,
    "start_time": "2021-07-10T16:36:57.130Z"
   },
   {
    "duration": 76,
    "start_time": "2021-07-10T16:36:58.020Z"
   },
   {
    "duration": 21,
    "start_time": "2021-07-10T16:36:58.099Z"
   },
   {
    "duration": 73,
    "start_time": "2021-07-10T16:37:05.954Z"
   },
   {
    "duration": 56,
    "start_time": "2021-07-10T17:22:38.264Z"
   },
   {
    "duration": 48,
    "start_time": "2021-07-10T17:22:38.323Z"
   },
   {
    "duration": 287,
    "start_time": "2021-07-10T17:22:38.374Z"
   },
   {
    "duration": 274,
    "start_time": "2021-07-10T17:22:38.664Z"
   },
   {
    "duration": 445,
    "start_time": "2021-07-10T17:22:38.941Z"
   },
   {
    "duration": 10,
    "start_time": "2021-07-10T17:22:39.389Z"
   },
   {
    "duration": 779,
    "start_time": "2021-07-10T17:22:39.402Z"
   },
   {
    "duration": 103,
    "start_time": "2021-07-10T17:22:40.184Z"
   },
   {
    "duration": 21,
    "start_time": "2021-07-10T17:22:40.290Z"
   },
   {
    "duration": 66,
    "start_time": "2021-07-10T17:22:40.314Z"
   },
   {
    "duration": 8,
    "start_time": "2021-07-10T17:22:40.383Z"
   },
   {
    "duration": 82,
    "start_time": "2021-07-10T17:22:40.394Z"
   },
   {
    "duration": 66859,
    "start_time": "2021-07-10T17:22:40.564Z"
   },
   {
    "duration": 440,
    "start_time": "2021-07-10T17:23:47.426Z"
   },
   {
    "duration": 424,
    "start_time": "2021-07-10T17:29:19.920Z"
   },
   {
    "duration": 395,
    "start_time": "2021-07-10T17:29:31.539Z"
   },
   {
    "duration": 410,
    "start_time": "2021-07-10T17:29:35.273Z"
   },
   {
    "duration": 403,
    "start_time": "2021-07-10T17:29:49.869Z"
   },
   {
    "duration": 574,
    "start_time": "2021-07-10T17:29:50.275Z"
   },
   {
    "duration": 33,
    "start_time": "2021-07-10T17:29:50.861Z"
   },
   {
    "duration": 1113,
    "start_time": "2021-07-10T17:29:50.898Z"
   },
   {
    "duration": 48,
    "start_time": "2021-07-10T17:29:52.014Z"
   },
   {
    "duration": 2652,
    "start_time": "2021-07-10T17:29:52.066Z"
   },
   {
    "duration": 1430,
    "start_time": "2021-07-10T17:29:54.721Z"
   },
   {
    "duration": 3219,
    "start_time": "2021-07-10T17:29:56.155Z"
   },
   {
    "duration": 3586,
    "start_time": "2021-07-10T17:29:59.376Z"
   },
   {
    "duration": 354,
    "start_time": "2021-07-10T17:30:02.964Z"
   }
  ],
  "kernelspec": {
   "display_name": "Python 3",
   "language": "python",
   "name": "python3"
  },
  "language_info": {
   "codemirror_mode": {
    "name": "ipython",
    "version": 3
   },
   "file_extension": ".py",
   "mimetype": "text/x-python",
   "name": "python",
   "nbconvert_exporter": "python",
   "pygments_lexer": "ipython3",
   "version": "3.8.5"
  },
  "toc": {
   "base_numbering": 1,
   "nav_menu": {},
   "number_sections": true,
   "sideBar": true,
   "skip_h1_title": true,
   "title_cell": "Содержание",
   "title_sidebar": "Contents",
   "toc_cell": true,
   "toc_position": {},
   "toc_section_display": true,
   "toc_window_display": false
  }
 },
 "nbformat": 4,
 "nbformat_minor": 2
}
